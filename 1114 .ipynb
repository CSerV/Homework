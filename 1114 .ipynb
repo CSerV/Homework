{
 "cells": [
  {
   "cell_type": "code",
   "execution_count": 18,
   "metadata": {
    "collapsed": false
   },
   "outputs": [
    {
     "name": "stdout",
     "output_type": "stream",
     "text": [
      "最大值 899\n",
      "最小值 -10\n",
      "平均值 106.72999999999999\n"
     ]
    }
   ],
   "source": [
    "numbers=[1,2,-1,55,100,899,-10,3,12.5,5.8]\n",
    "\n",
    "\n",
    "def A(numbers):\n",
    "    total=0\n",
    "    a=0  \n",
    "    max_=numbers[0]\n",
    "    min_=numbers[0]  \n",
    "    for number in numbers:\n",
    "        total+=number\n",
    "        a=total/len(numbers)\n",
    "        if  number>max_:\n",
    "            max_=number\n",
    "        elif number<min_:\n",
    "            min_=number\n",
    "    print('最大值',max_)\n",
    "    print('最小值',min_)\n",
    "    print('平均值',a)\n",
    "    \n",
    "A(numbers)\n",
    "\n",
    "    "
   ]
  },
  {
   "cell_type": "code",
   "execution_count": null,
   "metadata": {
    "collapsed": false
   },
   "outputs": [],
   "source": []
  },
  {
   "cell_type": "code",
   "execution_count": null,
   "metadata": {
    "collapsed": true
   },
   "outputs": [],
   "source": []
  }
 ],
 "metadata": {
  "kernelspec": {
   "display_name": "Python 3",
   "language": "python",
   "name": "python3"
  },
  "language_info": {
   "codemirror_mode": {
    "name": "ipython",
    "version": 3
   },
   "file_extension": ".py",
   "mimetype": "text/x-python",
   "name": "python",
   "nbconvert_exporter": "python",
   "pygments_lexer": "ipython3",
   "version": "3.6.0"
  }
 },
 "nbformat": 4,
 "nbformat_minor": 2
}
