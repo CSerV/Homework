{
 "cells": [
  {
   "cell_type": "code",
   "execution_count": 2,
   "metadata": {},
   "outputs": [
    {
     "name": "stdout",
     "output_type": "stream",
     "text": [
      "请输入一个正整数，以回车结束。3\n",
      "10\n"
     ]
    }
   ],
   "source": [
    "m= int(input('请输入一个正整数，以回车结束。'))\n",
    "i=0\n",
    "total1=0\n",
    "total=0\n",
    "while i<m:\n",
    "    i=i+1\n",
    "    total1=total1+i\n",
    "    total=total+total1\n",
    "print(total)\n",
    "\n",
    "    \n"
   ]
  },
  {
   "cell_type": "code",
   "execution_count": null,
   "metadata": {},
   "outputs": [],
   "source": [
    "m= input('请输入一个符号，以回车结束。')\n",
    "x=int(input('请输入一个正整数代表行数，以回车结束。'))\n",
    "print('调用该函数请输入5')\n",
    "n= int(input('需不需要调用，以回车结束。'))\n",
    "if n==5:\n",
    "    def com(list):\n",
    "        list=[m]\n",
    "        i=0\n",
    "        if i<x:\n",
    "            i=i+1\n",
    "            list.append('mm')\n",
    "        return list\n",
    "    print(list)\n",
    "else:\n",
    "    print('再见')\n"
   ]
  },
  {
   "cell_type": "code",
   "execution_count": 10,
   "metadata": {},
   "outputs": [
    {
     "name": "stdout",
     "output_type": "stream",
     "text": [
      "请输入一个正整数，以回车结束。3\n",
      "请输入一个正整数，回车结束。1\n",
      "请输入一个正整数，回车结束。2\n",
      "请输入一个正整数，回车结束。3\n",
      "1\n"
     ]
    }
   ],
   "source": [
    "words = []\n",
    "i=0\n",
    "m= int(input('请输入一个正整数，以回车结束。'))\n",
    "while i<m:\n",
    "    i=i+1\n",
    "    word = input('请输入一个正整数，回车结束。')\n",
    "    words.append(word)\n",
    "print(words[0])\n"
   ]
  },
  {
   "cell_type": "code",
   "execution_count": null,
   "metadata": {},
   "outputs": [],
   "source": [
    "words = []\n",
    "i=0\n",
    "a=-1\n",
    "total=0\n",
    "m= int(input('请输入一共篮球队员个数，以回车结束。'))\n",
    "while i<m:\n",
    "    i=i+1\n",
    "    word = int(input('请输入他的身高，回车结束。'))\n",
    "    words.append(word)\n",
    "    total=total+word\n",
    "x=total/m\n",
    "print(x)\n",
    "while a<m:\n",
    "    a=a+1\n",
    "    if words[a]>x:\n",
    "        print(words[a])"
   ]
  },
  {
   "cell_type": "markdown",
   "metadata": {},
   "source": []
  },
  {
   "cell_type": "code",
   "execution_count": null,
   "metadata": {},
   "outputs": [
    {
     "name": "stdout",
     "output_type": "stream",
     "text": [
      "7 +  4\n"
     ]
    }
   ],
   "source": [
    "import random\n",
    "\n",
    "number1 = random.randint(1, 10)\n",
    "number2 = random.randint(1, 10)\n",
    "a1=number1+number2\n",
    "x=0\n",
    "print(number1 ,'+ ' ,number2)\n",
    "m1= int(input('请输入一个答案，以回车结束。'))\n",
    "if m1==a1:\n",
    "    x=20\n",
    "number3 = random.randint(1, 10)\n",
    "number4 = random.randint(1, 10)\n",
    "a2=number3+number4\n",
    "print(number3 ,'+ ' ,number4)\n",
    "m2= int(input('请输入一个答案，以回车结束。'))\n",
    "if m2==a2:\n",
    "    x=x+20\n",
    "number5 = random.randint(1, 10)\n",
    "number6 = random.randint(1, 10)\n",
    "a3=number5+number6\n",
    "print(number5 ,'+ ' ,number6)\n",
    "m3= int(input('请输入一个答案，以回车结束。'))\n",
    "if m3==a3:\n",
    "    x=x+20\n",
    "number7 = random.randint(1, 10)\n",
    "number8 = random.randint(1, 10)\n",
    "a4=number7+number8\n",
    "print(number7 ,'+ ' ,number8)\n",
    "m4= int(input('请输入一个答案，以回车结束。'))\n",
    "if m4==a4:\n",
    "    x=x+20\n",
    "number9= random.randint(1, 10)\n",
    "number10 = random.randint(1, 10)\n",
    "a5=number9+number10\n",
    "print(number9 ,'+ ' ,number10)\n",
    "m5= int(input('请输入一个答案，以回车结束。'))\n",
    "if m5==a5:\n",
    "    x=x+20\n",
    "print(x)\n",
    "\n"
   ]
  },
  {
   "cell_type": "code",
   "execution_count": 9,
   "metadata": {},
   "outputs": [
    {
     "name": "stdout",
     "output_type": "stream",
     "text": [
      "[-5, -76]\n"
     ]
    }
   ],
   "source": [
    "m=[3,-5,9,108,34,-76,88]\n",
    "x=0\n",
    "a=m[0]\n",
    "n=[]\n",
    "for num in m:\n",
    "        if a>num:\n",
    "            a=num\n",
    "            n.append(a)\n",
    "print(n)"
   ]
  },
  {
   "cell_type": "code",
   "execution_count": null,
   "metadata": {},
   "outputs": [],
   "source": []
  }
 ],
 "metadata": {
  "kernelspec": {
   "display_name": "Python 3",
   "language": "python",
   "name": "python3"
  }
 },
 "nbformat": 4,
 "nbformat_minor": 2
}
