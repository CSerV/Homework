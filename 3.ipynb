{
 "cells": [
  {
   "cell_type": "code",
   "execution_count": 28,
   "metadata": {},
   "outputs": [
    {
     "name": "stdout",
     "output_type": "stream",
     "text": [
      "your name:honghnog\n",
      "plz write your birthday num1217\n",
      "honghnog ， 你是非常有性格的射手座！\n"
     ]
    }
   ],
   "source": [
    "# 写程序，可由键盘读入用户姓名例如Mr.right,让用户输入出生的月份与日期，判断用户星座，假设用户是金牛座，则输出，Mr,right,你是非常有性格的金牛座！。\n",
    "name=input('your name:')\n",
    "n=int(input('plz write your birthday num'))\n",
    "if   n>119 and n<219:\n",
    "    print (name,'你是非常有性格的水瓶座！')\n",
    "elif n>218 and n<321:\n",
    "     print (name,'你是非常有性格的双鱼座！')\n",
    "elif n<320 and n<420:\n",
    "     print (name,',你是非常有性格的白羊座！')\n",
    "elif n>419 and n<521:\n",
    "    print (name,',你是非常有性格的金牛座！')\n",
    "elif n>520 and n<622:\n",
    "     print (name,',你是非常有性格的双子座！')\n",
    "elif n>621 and n<723:\n",
    "     print (name,',你是非常有性格的巨蟹座!')\n",
    "elif n>722 and n<823:\n",
    "    print(name,',你是非常有性格的狮子座！')\n",
    "elif n>822 and n<923:\n",
    "    print(name,',你是非常有性格的处女座！')\n",
    "elif n>922 and n<1024:\n",
    "    print(name,',你是非常有性格的天秤座！')\n",
    "elif n>1023 and n<1123:\n",
    "    print(name,'，你是非常有性格的天蝎座！')\n",
    "elif n>1122 and n<1222:\n",
    "    print(name,'， 你是非常有性格的射手座！')\n",
    "elif n:\n",
    "    print(name,'，你是摩羯座')        \n",
    "      \n",
    "\n",
    "\n"
   ]
  },
  {
   "cell_type": "code",
   "execution_count": 10,
   "metadata": {},
   "outputs": [
    {
     "name": "stdout",
     "output_type": "stream",
     "text": [
      "plz print thr number:6\n",
      "plz print number:2\n",
      "plz print the way your want:12\n"
     ]
    }
   ],
   "source": [
    "#写程序，可由键盘读入两个整数m与n（n不等于0），询问用户意图，如果要求和则计算从m到n的和输出，如果要乘积则计算从m到n的积并输出，如果要求余数则计算m除以n的余数的值并输出，负责则计算m整除n的值并输出。\n",
    "m=int(input('plz print thr number:'))\n",
    "n=int(input('plz print number:'))\n",
    "x=str(input('plz print the way your want:'))\n",
    "a=str('+')\n",
    "b=str('*')\n",
    "c=str('%')\n",
    "total=0\n",
    "mul=1\n",
    "if x==c:\n",
    "    print(m//n)\n",
    "if m<n:\n",
    "    y=m\n",
    "    m=n\n",
    "    n=y\n",
    "while m<=n:\n",
    "    total=total+n\n",
    "    mul=mul*n\n",
    "    n=n+1\n",
    "if x==a:\n",
    "    print(total)\n",
    "elif x==b:\n",
    "    print(mul)"
   ]
  },
  {
   "cell_type": "code",
   "execution_count": 12,
   "metadata": {},
   "outputs": [
    {
     "name": "stdout",
     "output_type": "stream",
     "text": [
      "please input an English word:wife\n"
     ]
    },
    {
     "ename": "NameError",
     "evalue": "name 'Ture' is not defined",
     "output_type": "error",
     "traceback": [
      "\u001b[1;31m---------------------------------------------------------------------------\u001b[0m",
      "\u001b[1;31mNameError\u001b[0m                                 Traceback (most recent call last)",
      "\u001b[1;32m<ipython-input-12-5086d8fef984>\u001b[0m in \u001b[0;36m<module>\u001b[1;34m()\u001b[0m\n\u001b[0;32m      1\u001b[0m \u001b[1;31m#英文单词单数传复数，要求输入一个英文动词（单数形式），能够得到其复数形式，或给出单数转复数形式的建议（提示，some_string.endswith(some_letter)函数可以判断某字符串结尾字符，可尝试运行：'myname ’，end swith('me'),liupengyuan.endswith('n')\u001b[0m\u001b[1;33m\u001b[0m\u001b[1;33m\u001b[0m\u001b[0m\n\u001b[0;32m      2\u001b[0m \u001b[0mword\u001b[0m\u001b[1;33m=\u001b[0m\u001b[0minput\u001b[0m\u001b[1;33m(\u001b[0m\u001b[1;34m'please input an English word:'\u001b[0m\u001b[1;33m)\u001b[0m\u001b[1;33m\u001b[0m\u001b[0m\n\u001b[1;32m----> 3\u001b[1;33m \u001b[1;32mif\u001b[0m \u001b[0mword\u001b[0m\u001b[1;33m.\u001b[0m\u001b[0mendswith\u001b[0m\u001b[1;33m(\u001b[0m\u001b[1;34m'h'\u001b[0m\u001b[1;33m)\u001b[0m\u001b[1;33m==\u001b[0m\u001b[0mTure\u001b[0m\u001b[1;33m:\u001b[0m\u001b[1;33m\u001b[0m\u001b[0m\n\u001b[0m\u001b[0;32m      4\u001b[0m     \u001b[0mprint\u001b[0m\u001b[1;33m(\u001b[0m\u001b[0mword\u001b[0m\u001b[1;33m,\u001b[0m\u001b[1;34m'es'\u001b[0m\u001b[1;33m,\u001b[0m\u001b[0msep\u001b[0m\u001b[1;33m=\u001b[0m\u001b[1;34m''\u001b[0m\u001b[1;33m)\u001b[0m\u001b[1;33m\u001b[0m\u001b[0m\n\u001b[0;32m      5\u001b[0m \u001b[1;32melif\u001b[0m \u001b[0mword\u001b[0m\u001b[1;33m.\u001b[0m\u001b[0mendswith\u001b[0m\u001b[1;33m(\u001b[0m\u001b[1;34m'y'\u001b[0m\u001b[1;33m)\u001b[0m\u001b[1;33m==\u001b[0m\u001b[0mTure\u001b[0m\u001b[1;33m:\u001b[0m\u001b[1;33m\u001b[0m\u001b[0m\n",
      "\u001b[1;31mNameError\u001b[0m: name 'Ture' is not defined"
     ]
    }
   ],
   "source": [
    "#英文单词单数传复数，要求输入一个英文动词（单数形式），能够得到其复数形式，或给出单数转复数形式的建议（提示，some_string.endswith(some_letter)函数可以判断某字符串结尾字符，可尝试运行：'myname ’，end swith('me'),liupengyuan.endswith('n')\n",
    "word=input('please input an English word:')\n",
    "if word.endswith('h')==Ture:\n",
    "    print(word,'es',sep='')\n",
    "elif word.endswith('y')==Ture:\n",
    "    print('将此单词去掉y加上ies')\n",
    "else:\n",
    "    print(word,'s',sep='')\n",
    "    \n",
    "\n"
   ]
  },
  {
   "cell_type": "code",
   "execution_count": null,
   "metadata": {
    "collapsed": true
   },
   "outputs": [],
   "source": []
  }
 ],
 "metadata": {
  "kernelspec": {
   "display_name": "Python 3",
   "language": "python",
   "name": "python3"
  },
  "language_info": {
   "codemirror_mode": {
    "name": "ipython",
    "version": 3
   },
   "file_extension": ".py",
   "mimetype": "text/x-python",
   "name": "python",
   "nbconvert_exporter": "python",
   "pygments_lexer": "ipython3",
   "version": "3.6.2"
  }
 },
 "nbformat": 4,
 "nbformat_minor": 2
}
