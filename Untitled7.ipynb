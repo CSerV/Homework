{
 "cells": [
  {
   "cell_type": "code",
   "execution_count": null,
   "metadata": {
    "collapsed": true
   },
   "outputs": [],
   "source": [
    "# 1+3+6+10+15+21+……=？（共m项）\n",
    "def sum(m):\n",
    "    i=0\n",
    "    item=0\n",
    "    total=0\n",
    "    while i,m:\n",
    "        i+=1\n",
    "        item+=i\n",
    "        total+=item\n",
    "    return total\n",
    "m=int(input())\n",
    "print(total)"
   ]
  },
  {
   "cell_type": "code",
   "execution_count": null,
   "metadata": {
    "collapsed": true
   },
   "outputs": [],
   "source": [
    "#两个形式参数，打印多行三角形\n",
    "def triangle(symbol,row):\n",
    "    for i in range(row):\n",
    "        print(symbol*(2*i+1))"
   ]
  },
  {
   "cell_type": "code",
   "execution_count": null,
   "metadata": {
    "collapsed": true
   },
   "outputs": [],
   "source": [
    "#给出其第一位数\n",
    "def first_number(number):\n",
    "    i=1\n",
    "    while True:\n",
    "        item=number//i\n",
    "        if 1<item<=9:\n",
    "            return item\n",
    "        break\n",
    "    else:\n",
    "        i=i*10"
   ]
  },
  {
   "cell_type": "code",
   "execution_count": null,
   "metadata": {
    "collapsed": true
   },
   "outputs": [],
   "source": [
    "#随机生成数\n",
    "n=random.randint(0,9)"
   ]
  },
  {
   "cell_type": "code",
   "execution_count": null,
   "metadata": {
    "collapsed": true
   },
   "outputs": [],
   "source": [
    "#倒序字符串\n",
    "def reverse(s):\n",
    "    return s[:0:-1]\n"
   ]
  },
  {
   "cell_type": "code",
   "execution_count": null,
   "metadata": {
    "collapsed": true
   },
   "outputs": [],
   "source": [
    "#随机抽取10个汉字，形成一个字符串，存入文件n.txt,并打印\n",
    "import random\n",
    "fh=open()\n",
    "text=fh.read\n",
    "text=text.replace('\\n',' ')\n",
    "text=text.replace('、',' ')\n",
    "sentence=\n",
    "for a in range(1,11)\n",
    "    for n in range(0,a*10):\n",
    "        i=random.randint(0,len(text)-1)\n",
    "        sentence+=text[i]\n",
    "    b=str(a)\n",
    "    fh=open()\n",
    "    fh.writelines(sentence)\n",
    "    print(sentence)\n",
    "    sentence=''"
   ]
  },
  {
   "cell_type": "code",
   "execution_count": null,
   "metadata": {
    "collapsed": true
   },
   "outputs": [],
   "source": [
    "#成语接龙\n",
    "fh=open()\n",
    "text=fh.read\n",
    "text=text.replace('\\n',' ')\n",
    "idioms=text.split('\\n')\n",
    "idioms_2=[]\n",
    "fh.close\n",
    "\n",
    "idioms=random.chioce(idioms)\n",
    "print(idiom)\n",
    "\n",
    "while True:\n",
    "    answer=input()\n",
    "    if answer in idioms and answer[0]=idiom[-1]:\n",
    "        player+=10\n",
    "        for idiom in idioms:\n",
    "            if answer[-1]=idiom[0]:\n",
    "                computer+=10\n",
    "                break\n",
    "            else:\n",
    "                idioms_2.append(idiom)\n",
    "        if len(idioms_2)=len(idioms):\n",
    "            player+=10\n",
    "            end()\n",
    "            break\n",
    "    else:\n",
    "        computer+=10\n",
    "        end()\n",
    "        break\n",
    "        \n",
    "        "
   ]
  },
  {
   "cell_type": "code",
   "execution_count": null,
   "metadata": {
    "collapsed": true
   },
   "outputs": [],
   "source": [
    "import random\n",
    "def ge(n):\n",
    "    dic={num:count}\n",
    "    for i in range(n):\n",
    "        num=random.randint(0,1000000)\n",
    "        if num in dic:\n",
    "            dic[num]+=1\n",
    "        else:\n",
    "            dic[num]=1\n",
    "            \n",
    "    dic=sorted(dic.items(),key=lam)\n",
    "dic=ge(10000)\n",
    "print(dic)"
   ]
  },
  {
   "cell_type": "code",
   "execution_count": null,
   "metadata": {
    "collapsed": true
   },
   "outputs": [],
   "source": []
  }
 ],
 "metadata": {
  "kernelspec": {
   "display_name": "Python 3",
   "language": "python",
   "name": "python3"
  },
  "language_info": {
   "codemirror_mode": {
    "name": "ipython",
    "version": 3
   },
   "file_extension": ".py",
   "mimetype": "text/x-python",
   "name": "python",
   "nbconvert_exporter": "python",
   "pygments_lexer": "ipython3",
   "version": "3.6.2"
  }
 },
 "nbformat": 4,
 "nbformat_minor": 2
}
