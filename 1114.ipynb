{
 "cells": [
  {
   "cell_type": "code",
   "execution_count": 4,
   "metadata": {
    "collapsed": true
   },
   "outputs": [],
   "source": [
    "def remix():\n",
    "    numbers=[1,2,-1,55,100,899,-10,3,12.5,5.8]\n",
    "    i=0\n",
    "    x=0\n",
    "    y=0\n",
    "    total=0\n",
    "    for number in numbers:\n",
    "        while i<10:\n",
    "            total=total+number\n",
    "            i+=1\n",
    "        print(total/10)\n",
    "    \n",
    "        if number > total/10:\n",
    "            x=number\n",
    "        print(MAX)\n",
    "        \n",
    "        if number < total/10:\n",
    "            y=number\n",
    "        print(MIN)"
   ]
  },
  {
   "cell_type": "code",
   "execution_count": null,
   "metadata": {
    "collapsed": true
   },
   "outputs": [],
   "source": []
  }
 ],
 "metadata": {
  "kernelspec": {
   "display_name": "Python 3",
   "language": "python",
   "name": "python3"
  },
  "language_info": {
   "codemirror_mode": {
    "name": "ipython",
    "version": 3
   },
   "file_extension": ".py",
   "mimetype": "text/x-python",
   "name": "python",
   "nbconvert_exporter": "python",
   "pygments_lexer": "ipython3",
   "version": "3.6.2"
  }
 },
 "nbformat": 4,
 "nbformat_minor": 2
}
