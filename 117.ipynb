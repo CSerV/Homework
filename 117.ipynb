{
 "cells": [
  {
   "cell_type": "code",
   "execution_count": 12,
   "metadata": {},
   "outputs": [
    {
     "name": "stdout",
     "output_type": "stream",
     "text": [
      "请输入一个整数，以回车结束。6\n",
      "请输入一个整数，以回车结束。9\n",
      "请输入一个整数，以回车结束。3\n"
     ]
    }
   ],
   "source": [
    "def sum(end):\n",
    "    total=0\n",
    "    import random\n",
    "    number=random.randint(n,k)\n",
    "    guess_times=0\n",
    "    while guess_times<=m:\n",
    "        guess_times+=1\n",
    "        total=total+num\n",
    "    else print (total**(1/2))\n",
    "m=int(input('请输入一个整数，以回车结束。'))\n",
    "n=int(input('请输入一个整数，以回车结束。'))\n",
    "k=int(input('请输入一个整数，以回车结束。'))\n",
    "    "
   ]
  },
  {
   "cell_type": "code",
   "execution_count": null,
   "metadata": {
    "collapsed": true
   },
   "outputs": [],
   "source": []
  },
  {
   "cell_type": "code",
   "execution_count": null,
   "metadata": {
    "collapsed": true
   },
   "outputs": [],
   "source": []
  }
 ],
 "metadata": {
  "kernelspec": {
   "display_name": "Python 3",
   "language": "python",
   "name": "python3"
  },
  "language_info": {
   "codemirror_mode": {
    "name": "ipython",
    "version": 3
   },
   "file_extension": ".py",
   "mimetype": "text/x-python",
   "name": "python",
   "nbconvert_exporter": "python",
   "pygments_lexer": "ipython3",
   "version": "3.6.2"
  }
 },
 "nbformat": 4,
 "nbformat_minor": 2
}
