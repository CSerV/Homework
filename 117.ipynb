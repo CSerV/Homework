{
 "cells": [
  {
   "cell_type": "code",
   "execution_count": 4,
   "metadata": {},
   "outputs": [
    {
     "name": "stdout",
     "output_type": "stream",
     "text": [
      "5\n",
      "10\n",
      "请输入一个大于等于n的数500\n",
      "973.5\n"
     ]
    }
   ],
   "source": [
    "def number():\n",
    "    m=int(input())\n",
    "    n=int(input())\n",
    "    k=int(input('请输入一个大于等于n的数'))\n",
    "    i=0\n",
    "    total=0\n",
    "    import random,math\n",
    "    while i<m:\n",
    "         number=random.randint(n,k)\n",
    "         i+=1\n",
    "         total=total+number\n",
    "    print(total**1/2)\n",
    "number()\n",
    "        \n",
    "        \n",
    "        \n",
    "    "
   ]
  }
 ],
 "metadata": {
  "kernelspec": {
   "display_name": "Python 3",
   "language": "python",
   "name": "python3"
  },
  "language_info": {
   "codemirror_mode": {
    "name": "ipython",
    "version": 3
   },
   "file_extension": ".py",
   "mimetype": "text/x-python",
   "name": "python",
   "nbconvert_exporter": "python",
   "pygments_lexer": "ipython3",
   "version": "3.6.2"
  }
 },
 "nbformat": 4,
 "nbformat_minor": 2
}
