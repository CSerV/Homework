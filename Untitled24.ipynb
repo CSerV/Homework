{
 "cells": [
  {
   "cell_type": "code",
   "execution_count": 2,
   "metadata": {},
   "outputs": [
    {
     "name": "stdout",
     "output_type": "stream",
     "text": [
      "请输入开始数字:5\n",
      "请输入结束数字:8\n",
      "请输入间隔数字:2\n"
     ]
    },
    {
     "data": {
      "text/plain": [
       "12"
      ]
     },
     "execution_count": 2,
     "metadata": {},
     "output_type": "execute_result"
    }
   ],
   "source": [
    "def pkq(m,n,k):\n",
    "        i=m\n",
    "        total=0\n",
    "        while i<=n:\n",
    "            total=total+i\n",
    "            i=i+k\n",
    "        return total\n",
    "m=int(input('请输入开始数字:'))\n",
    "n=int(input('请输入结束数字:')) \n",
    "k=int(input('请输入间隔数字:')) \n",
    "pkq(m,n,k)  "
   ]
  },
  {
   "cell_type": "code",
   "execution_count": null,
   "metadata": {
    "collapsed": true
   },
   "outputs": [],
   "source": []
  }
 ],
 "metadata": {
  "kernelspec": {
   "display_name": "Python 3",
   "language": "python",
   "name": "python3"
  },
  "language_info": {
   "codemirror_mode": {
    "name": "ipython",
    "version": 3
   },
   "file_extension": ".py",
   "mimetype": "text/x-python",
   "name": "python",
   "nbconvert_exporter": "python",
   "pygments_lexer": "ipython3",
   "version": "3.6.2"
  }
 },
 "nbformat": 4,
 "nbformat_minor": 2
}
