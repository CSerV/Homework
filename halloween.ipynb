{
 "cells": [
  {
   "cell_type": "code",
   "execution_count": 1,
   "metadata": {},
   "outputs": [],
   "source": [
    "def my_sum(m,n):\n",
    "    i=0\n",
    "    l=0\n",
    "    mo=0\n",
    "    to=0\n",
    "    while i<n:\n",
    "        i+=1\n",
    "        to+=i\n",
    "    while l<m:\n",
    "        l+=1\n",
    "        mo+=l\n",
    "    print(to+mo)\n",
    "def my_mul(m,n):\n",
    "    i=0\n",
    "    l=0\n",
    "    mo=1\n",
    "    to=1\n",
    "    while i<n:\n",
    "        i+=1\n",
    "        to*=i\n",
    "    while l<m:\n",
    "        l+=1\n",
    "        mo*=l\n",
    "    print(to+mo)"
   ]
  },
  {
   "cell_type": "code",
   "execution_count": 2,
   "metadata": {},
   "outputs": [
    {
     "name": "stdout",
     "output_type": "stream",
     "text": [
      "1\n",
      "2\n",
      "3\n"
     ]
    }
   ],
   "source": [
    "m=int(input())\n",
    "n=int(input())\n",
    "if m>n:\n",
    "    my_sum(m,n)\n",
    "else:\n",
    "    my_mul(m,n)"
   ]
  },
  {
   "cell_type": "code",
   "execution_count": null,
   "metadata": {},
   "outputs": [],
   "source": []
  }
 ],
 "metadata": {
  "kernelspec": {
   "display_name": "Python 3",
   "language": "python",
   "name": "python3"
  },
  "language_info": {
   "codemirror_mode": {
    "name": "ipython",
    "version": 3
   },
   "file_extension": ".py",
   "mimetype": "text/x-python",
   "name": "python",
   "nbconvert_exporter": "python",
   "pygments_lexer": "ipython3",
   "version": "3.6.3"
  }
 },
 "nbformat": 4,
 "nbformat_minor": 2
}
