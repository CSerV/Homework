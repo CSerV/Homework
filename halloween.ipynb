{
 "cells": [
  {
   "cell_type": "code",
   "execution_count": 14,
   "metadata": {},
   "outputs": [],
   "source": [
    "def my_sum(end):\n",
    "    n = 0\n",
    "    total = 0\n",
    "\n",
    "    while n < end:\n",
    "        n = n + 1\n",
    "        total = total + n\n",
    "\n",
    "    return total\n",
    "def my_mul(end):\n",
    "    a = 0\n",
    "    b= 1\n",
    "\n",
    "    while a < end:\n",
    "        a = a+ 1\n",
    "        b =b*a\n",
    "\n",
    "    return b \n"
   ]
  },
  {
   "cell_type": "code",
   "execution_count": null,
   "metadata": {},
   "outputs": [],
   "source": [
    "n = int(input('请输入整数n，以回车结束。'))\n",
    "m = int(input('请输入整数m，以回车结束。'))\n",
    "while m>n:\n",
    "    def x(end):\n",
    "        total= 0\n",
    "        i=0\n",
    "        while i < m:\n",
    "                i = i + 1    \n",
    "                total = total +i\n",
    "        return total\n",
    "\n",
    "    def y(end):\n",
    "        a= 0\n",
    "        i=0\n",
    "        while i < n:\n",
    "                i = i + 1\n",
    "                a =a + i\n",
    "        return a\n",
    "           \n",
    "    print(x(m)+y(n))\n",
    "while m<=n:\n",
    "    def t(end):\n",
    "        a = 0\n",
    "        b= 1\n",
    "\n",
    "        while a < m:\n",
    "                a = a+ 1\n",
    "                b =b*a\n",
    "        return b\n",
    "    def o(end):\n",
    "        a = 0\n",
    "        w= 1\n",
    "\n",
    "        while   a < n:\n",
    "                a = a+ 1\n",
    "                w =w*a\n",
    "        return w\n",
    "    print(t(m)+o(n))\n",
    "   "
   ]
  },
  {
   "cell_type": "code",
   "execution_count": null,
   "metadata": {},
   "outputs": [],
   "source": []
  },
  {
   "cell_type": "code",
   "execution_count": null,
   "metadata": {},
   "outputs": [],
   "source": []
  },
  {
   "cell_type": "code",
   "execution_count": null,
   "metadata": {},
   "outputs": [],
   "source": []
  },
  {
   "cell_type": "code",
   "execution_count": null,
   "metadata": {},
   "outputs": [],
   "source": []
  },
  {
   "cell_type": "code",
   "execution_count": null,
   "metadata": {},
   "outputs": [],
   "source": []
  },
  {
   "cell_type": "markdown",
   "metadata": {},
   "source": [
    "#### def compute_sum(end):\n",
    "    i = 0\n",
    "    total_n = 0\n",
    "\n",
    "    while i < end:\n",
    "        i = i + 1\n",
    "        total_n = total_n + i\n",
    "\n",
    "    return total_n\n",
    "\n",
    "print(compute_sum(100))\n"
   ]
  },
  {
   "cell_type": "code",
   "execution_count": 11,
   "metadata": {},
   "outputs": [
    {
     "name": "stdout",
     "output_type": "stream",
     "text": [
      "('多个返回值', 1000, 100, 10.0)\n"
     ]
    }
   ],
   "source": [
    "def example_multi(number):\n",
    "    return '多个返回值', number*10, number, number/10\n",
    "\n",
    "\n",
    "# 主程序\n",
    "n=100\n",
    "print(example_multi(100))\n"
   ]
  },
  {
   "cell_type": "code",
   "execution_count": 12,
   "metadata": {},
   "outputs": [
    {
     "name": "stdout",
     "output_type": "stream",
     "text": [
      "First: 1\n",
      "Second: 0\n",
      "Third: -1\n"
     ]
    }
   ],
   "source": [
    "def zero_flag(number):\n",
    "    if number < 0:\n",
    "        return -1\n",
    "    elif number == 0:\n",
    "        return 0\n",
    "    else:\n",
    "        return 1\n",
    "\n",
    "# 主程序\n",
    "print('First:', zero_flag(100))\n",
    "print('Second:', zero_flag(0))\n",
    "print('Third:', zero_flag(-100))\n"
   ]
  },
  {
   "cell_type": "code",
   "execution_count": null,
   "metadata": {},
   "outputs": [],
   "source": []
  }
 ],
 "metadata": {
  "kernelspec": {
   "display_name": "Python 3",
   "language": "python",
   "name": "python3"
  },
  "language_info": {
   "codemirror_mode": {
    "name": "ipython",
    "version": 3
   },
   "file_extension": ".py",
   "mimetype": "text/x-python",
   "name": "python",
   "nbconvert_exporter": "python",
   "pygments_lexer": "ipython3",
   "version": "3.6.3"
  }
 },
 "nbformat": 4,
 "nbformat_minor": 2
}
