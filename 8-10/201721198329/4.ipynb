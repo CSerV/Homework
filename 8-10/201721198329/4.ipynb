{
 "cells": [
  {
   "cell_type": "code",
   "execution_count": 2,
   "metadata": {},
   "outputs": [
    {
     "name": "stdout",
     "output_type": "stream",
     "text": [
      "输入第一个数2\n",
      "输入第二个数3\n",
      "输入第三个数4\n",
      "32\n"
     ]
    }
   ],
   "source": [
    "#练习1\n",
    "def compute_mul(end):\n",
    "    i=1\n",
    "    total_n=1\n",
    "    while i<=end:\n",
    "        total_n=total_n*i\n",
    "        i+=1\n",
    "    return total_n\n",
    "n=int(input('输入第一个数'))\n",
    "m=int(input('输入第二个数'))\n",
    "k=int(input('输入第三个数'))\n",
    "print(compute_mul(n)+compute_mul(m)+compute_mul(k))\n",
    "    "
   ]
  },
  {
   "cell_type": "code",
   "execution_count": 3,
   "metadata": {},
   "outputs": [
    {
     "name": "stdout",
     "output_type": "stream",
     "text": [
      "3.140592653839794\n",
      "3.1415826535897198\n"
     ]
    }
   ],
   "source": [
    "#练习2\n",
    "def compute_sum(n):\n",
    "    total=1\n",
    "    i=1\n",
    "    \n",
    "    while i<n:\n",
    "        i+=1\n",
    "        m=i%2\n",
    "        if m!=0:\n",
    "            total=total+1/(2*i-1)\n",
    "        else:\n",
    "            total=total-1/(2*i-1)\n",
    "            \n",
    "    return total\n",
    "\n",
    "print(compute_sum(1000)*4)\n",
    "print(compute_sum(100000)*4)\n"
   ]
  },
  {
   "cell_type": "code",
   "execution_count": 5,
   "metadata": {},
   "outputs": [
    {
     "name": "stdout",
     "output_type": "stream",
     "text": [
      "请输入你的名字杜成玉\n",
      "请输入你的出生月份及日期，如10.0210.03\n",
      "杜成玉 天秤座\n"
     ]
    }
   ],
   "source": [
    "#练习3\n",
    "name=str(input('请输入你的名字'))\n",
    "\n",
    "def month(date):\n",
    "    if 1.20<=date<=2.18:\n",
    "        cons='水瓶座'\n",
    "    elif 2.19<=date<=3.20:\n",
    "        cons='双鱼座'\n",
    "    elif 3.21<=date<=4.19:\n",
    "        cons='白羊座'\n",
    "    elif 4.20<=date<=5.20:\n",
    "        cons='金牛座'\n",
    "    elif 5.21<=date<=6.21:\n",
    "        cons='双子座'\n",
    "    elif 6.22<=date<=7.22:\n",
    "        cons='巨蟹座'\n",
    "    elif 7.23<=date<=8.22:\n",
    "        cons='狮子座'\n",
    "    elif 8.23<=date<=9.22:\n",
    "        cons='处女座'\n",
    "    elif 9.23<=date<=10.23:\n",
    "        cons='天秤座'\n",
    "    elif 10.24<=date<=11.22:\n",
    "        cons='天蝎座'\n",
    "    elif 11.23<=date<=12.21:\n",
    "        cons='射手座'\n",
    "    else:\n",
    "        cons='摩羯座'\n",
    "        \n",
    "    return cons\n",
    "    \n",
    "date=float(input('请输入你的出生月份及日期，如10.02'))\n",
    "print(name,month(date))"
   ]
  },
  {
   "cell_type": "code",
   "execution_count": 7,
   "metadata": {},
   "outputs": [
    {
     "name": "stdout",
     "output_type": "stream",
     "text": [
      "输入一个单词apple\n",
      "加s\n"
     ]
    }
   ],
   "source": [
    "#练习3\n",
    "def change(n):\n",
    "    if n.endswith('o'):\n",
    "        words='有生命的加es, 无生命的加s'\n",
    "    elif n.endswith('f'):\n",
    "        words='变f为v, 再加-es'\n",
    "    elif n.endswith('fe'):    \n",
    "        words='变f为v, 再加-s'\n",
    "    elif n.endswith('y'):    \n",
    "        words='变y为i, 再加-es'\n",
    "    elif n.endswith('s'):    \n",
    "        words='加-es'\n",
    "    elif n.endswith('sh'):     \n",
    "        words='加-es'\n",
    "    elif n.endswith('x'):\n",
    "        words='加-es'\n",
    "    elif n.endswith('ch'):    \n",
    "        words='加-es'\n",
    "    else:\n",
    "        words='加s'    \n",
    "        \n",
    "    return words\n",
    "word=input('输入一个单词')\n",
    "print(change(word))\n",
    "    "
   ]
  },
  {
   "cell_type": "code",
   "execution_count": 10,
   "metadata": {},
   "outputs": [
    {
     "name": "stdout",
     "output_type": "stream",
     "text": [
      "输入一个数3\n",
      "输入另一个数11\n",
      "输入间隔2\n",
      "24\n"
     ]
    }
   ],
   "source": [
    "#挑战性练习\n",
    "def compute_sum(m,n,k):\n",
    "    total=0\n",
    "    for each in range(m,n,k):\n",
    "        total+=each\n",
    "    return total\n",
    "m=int(input('输入一个数'))\n",
    "n=int(input('输入另一个数'))\n",
    "k=int(input('输入间隔'))        \n",
    "print(compute_sum(m,n,k))"
   ]
  },
  {
   "cell_type": "code",
   "execution_count": null,
   "metadata": {},
   "outputs": [],
   "source": []
  },
  {
   "cell_type": "code",
   "execution_count": null,
   "metadata": {},
   "outputs": [],
   "source": []
  },
  {
   "cell_type": "code",
   "execution_count": null,
   "metadata": {},
   "outputs": [],
   "source": []
  },
  {
   "cell_type": "code",
   "execution_count": null,
   "metadata": {},
   "outputs": [],
   "source": []
  },
  {
   "cell_type": "code",
   "execution_count": null,
   "metadata": {},
   "outputs": [],
   "source": []
  },
  {
   "cell_type": "code",
   "execution_count": null,
   "metadata": {},
   "outputs": [],
   "source": []
  }
 ],
 "metadata": {
  "kernelspec": {
   "display_name": "Python 3",
   "language": "python",
   "name": "python3"
  },
  "language_info": {
   "codemirror_mode": {
    "name": "ipython",
    "version": 3
   },
   "file_extension": ".py",
   "mimetype": "text/x-python",
   "name": "python",
   "nbconvert_exporter": "python",
   "pygments_lexer": "ipython3",
   "version": "3.6.0"
  }
 },
 "nbformat": 4,
 "nbformat_minor": 2
}
