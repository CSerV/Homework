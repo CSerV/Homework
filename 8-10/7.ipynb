{
 "cells": [
  {
   "cell_type": "code",
   "execution_count": 10,
   "metadata": {},
   "outputs": [
    {
     "name": "stdout",
     "output_type": "stream",
     "text": [
      "gfds\n"
     ]
    },
    {
     "data": {
      "text/plain": [
       "'sdfg'"
      ]
     },
     "execution_count": 10,
     "metadata": {},
     "output_type": "execute_result"
    }
   ],
   "source": [
    "def reverse(s):\n",
    "    n=len(s)\n",
    "    print(s[n-1:0:-1]+s[0])\n",
    "    return s\n",
    "reverse('sdfg')"
   ]
  },
  {
   "cell_type": "code",
   "execution_count": 11,
   "metadata": {},
   "outputs": [
    {
     "name": "stdout",
     "output_type": "stream",
     "text": [
      "Enter number of rows: 5\n",
      "Enter the symbol: 2\n",
      "2\n",
      "22\n",
      "222\n",
      "2222\n",
      "22222\n",
      "     2\n",
      "    222\n",
      "   22222\n",
      "  2222222\n",
      " 222222222\n",
      "  2\n",
      "   22\n",
      "    222\n",
      "     2222\n",
      "      22222\n"
     ]
    }
   ],
   "source": [
    "def triangles():\n",
    "    rows = int(input('Enter number of rows: '))\n",
    "    s = input('Enter the symbol: ')\n",
    "\n",
    "    for i in range(rows):\n",
    "        print(s * (i + 1))\n",
    "    \n",
    "    for i in range(rows):\n",
    "        print(' ' * ((rows - 1) - i),s * (2 * i + 1))\n",
    "        \n",
    "    for i in range(rows):\n",
    "        print(' ' * (i + 1), s * (i + 1))\n",
    "        \n",
    "triangles()"
   ]
  },
  {
   "cell_type": "code",
   "execution_count": 12,
   "metadata": {},
   "outputs": [
    {
     "name": "stdout",
     "output_type": "stream",
     "text": [
      "This number of rows will be doubled!: 3\n",
      "Enter the symbol: #\n",
      "   #\n",
      "  ###\n",
      " #####\n",
      " #####\n",
      "  ###\n",
      "   #\n"
     ]
    }
   ],
   "source": [
    "def diamonds():\n",
    "    rows = int(input('This number of rows will be doubled!: '))\n",
    "    s = input('Enter the symbol: ')\n",
    "\n",
    "    for i in range(rows):\n",
    "        print(' ' * (rows - 1 - i),s * (2 * i + 1))\n",
    "        \n",
    "    for i in range(rows, 0, -1):\n",
    "        print(' ' * (rows - i),s * (2 * i - 1))\n",
    "        \n",
    "        \n",
    "diamonds()"
   ]
  },
  {
   "cell_type": "code",
   "execution_count": null,
   "metadata": {
    "collapsed": true
   },
   "outputs": [],
   "source": []
  }
 ],
 "metadata": {
  "kernelspec": {
   "display_name": "Python 3",
   "language": "python",
   "name": "python3"
  },
  "language_info": {
   "codemirror_mode": {
    "name": "ipython",
    "version": 3
   },
   "file_extension": ".py",
   "mimetype": "text/x-python",
   "name": "python",
   "nbconvert_exporter": "python",
   "pygments_lexer": "ipython3",
   "version": "3.6.2"
  }
 },
 "nbformat": 4,
 "nbformat_minor": 2
}
