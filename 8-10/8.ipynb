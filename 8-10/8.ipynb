{
 "cells": [
  {
   "cell_type": "code",
   "execution_count": 4,
   "metadata": {},
   "outputs": [
    {
     "ename": "NameError",
     "evalue": "name 'welcome' is not defined",
     "output_type": "error",
     "traceback": [
      "\u001b[0;31m---------------------------------------------------------------------------\u001b[0m",
      "\u001b[0;31mNameError\u001b[0m                                 Traceback (most recent call last)",
      "\u001b[0;32m<ipython-input-4-7d79514fb9e9>\u001b[0m in \u001b[0;36m<module>\u001b[0;34m()\u001b[0m\n\u001b[1;32m      1\u001b[0m \u001b[0;31m#实现完整点字成诗主程序\u001b[0m\u001b[0;34m\u001b[0m\u001b[0;34m\u001b[0m\u001b[0m\n\u001b[0;32m----> 2\u001b[0;31m \u001b[0mwelcome\u001b[0m\u001b[0;34m(\u001b[0m\u001b[0;34m)\u001b[0m\u001b[0;34m\u001b[0m\u001b[0m\n\u001b[0m\u001b[1;32m      3\u001b[0m \u001b[0;32mimport\u001b[0m \u001b[0mrandom\u001b[0m\u001b[0;34m\u001b[0m\u001b[0m\n\u001b[1;32m      4\u001b[0m \u001b[0mscore\u001b[0m \u001b[0;34m=\u001b[0m \u001b[0;36m10\u001b[0m\u001b[0;34m\u001b[0m\u001b[0m\n\u001b[1;32m      5\u001b[0m \u001b[0;32mwhile\u001b[0m \u001b[0mscore\u001b[0m \u001b[0;34m>=\u001b[0m \u001b[0;36m0\u001b[0m\u001b[0;34m:\u001b[0m\u001b[0;34m\u001b[0m\u001b[0m\n",
      "\u001b[0;31mNameError\u001b[0m: name 'welcome' is not defined"
     ]
    }
   ],
   "source": [
    "#实现完整点字成诗主程序\n",
    "welcome()\n",
    "import random\n",
    "score = 10\n",
    "while score >= 0:\n",
    "    \n",
    "    pl=open(r'd:/temp/poems.txt')\n",
    "    text=pl.read()\n",
    "    \n",
    "    text=text.replace('，',\"\")\n",
    "    text=text.replace('。',\"\")\n",
    "    poems=[]\n",
    "    poems=text.split('\\n')\n",
    "    #print('题库是',poems) poem是随机一句诗 poems是题库有序字符串列\n",
    "    poem=random.choice(poems)\n",
    "    realpoem=poem\n",
    "\n",
    "    guesstable = [ch for ch in poem]\n",
    "    while len(guesstable) < 10:\n",
    "        ch = random.choice(poems)\n",
    "        if ch not in guesstable:\n",
    "            guesstable.append(ch)\n",
    "    random.shuffle(guesstable)\n",
    "\n",
    "    for i in range(0,10,2):\n",
    "        print(guesstable[i],guesstable[i+1])\n",
    "    \n",
    "    guesspoem=input('请根据所给文字组成一对五言绝句回车键结束，如果直接键入回车键视为退出游戏')\n",
    "    if guesspoem == realpoem:\n",
    "        print('答对了+10分')\n",
    "        score=score+10\n",
    "        print('你当前的分数是：', score)\n",
    "        if score == 100:\n",
    "            win()\n",
    "    elif guesspoem == '':\n",
    "            print('退出游戏。')\n",
    "            print('你最后的分数是：', score)\n",
    "            break\n",
    "               \n",
    "    else:\n",
    "            score -= 10\n",
    "            print('答错了，减十分')\n",
    "            print('成语其实是：', realpoem)\n",
    "            print('你当前的分数是：', score)\n",
    "else:\n",
    "    lose()"
   ]
  },
  {
   "cell_type": "code",
   "execution_count": null,
   "metadata": {
    "collapsed": true
   },
   "outputs": [],
   "source": []
  }
 ],
 "metadata": {
  "kernelspec": {
   "display_name": "Python 3",
   "language": "python",
   "name": "python3"
  },
  "language_info": {
   "codemirror_mode": {
    "name": "ipython",
    "version": 3
   },
   "file_extension": ".py",
   "mimetype": "text/x-python",
   "name": "python",
   "nbconvert_exporter": "python",
   "pygments_lexer": "ipython3",
   "version": "3.6.2"
  }
 },
 "nbformat": 4,
 "nbformat_minor": 2
}
