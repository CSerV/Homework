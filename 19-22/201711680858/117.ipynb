{
 "cells": [
  {
   "cell_type": "code",
   "execution_count": 5,
   "metadata": {
    "collapsed": false
   },
   "outputs": [
    {
     "name": "stdout",
     "output_type": "stream",
     "text": [
      "请输入一个数2\n",
      "请输入一个数1\n",
      "请输入一个数10\n",
      "8\n",
      "9\n",
      "4.123105625617661\n"
     ]
    }
   ],
   "source": [
    "m=int(input('请输入一个数'))\n",
    "n=int(input('请输入一个数'))\n",
    "k=int(input('请输入一个数'))\n",
    "import random,math\n",
    "i=0\n",
    "total=0\n",
    "while  i<m:\n",
    "    number=random.randint(n,k)\n",
    "    print(number)\n",
    "    total=total+number\n",
    "    i+=1\n",
    "print(math.sqrt(total))"
   ]
  },
  {
   "cell_type": "code",
   "execution_count": null,
   "metadata": {
    "collapsed": true
   },
   "outputs": [],
   "source": []
  }
 ],
 "metadata": {
  "kernelspec": {
   "display_name": "Python 3",
   "language": "python",
   "name": "python3"
  }
 },
 "nbformat": 4,
 "nbformat_minor": 2
}
