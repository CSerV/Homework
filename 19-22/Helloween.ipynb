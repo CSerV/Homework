{
 "cells": [
  {
   "cell_type": "code",
   "execution_count": 1,
   "metadata": {
    "collapsed": false
   },
   "outputs": [
    {
     "name": "stdout",
     "output_type": "stream",
     "text": [
      "请输入一个正整数m100\n",
      "请输入一个正整数n4\n",
      "5060\n"
     ]
    }
   ],
   "source": [
    "m=int(input('请输入一个正整数m'))\n",
    "n=int(input('请输入一个正整数n'))\n",
    "\n",
    "def my_sum(m):\n",
    "    i = 0\n",
    "    total = 0\n",
    "    \n",
    "    while i < m:\n",
    "        i += 1\n",
    "        total += i\n",
    "        \n",
    "    return total\n",
    "\n",
    "    print(my_sum(100))\n",
    "\n",
    "def my_mul(n):\n",
    "    i = 0\n",
    "    mul = 1\n",
    "    \n",
    "    while i<n:\n",
    "        i += 1\n",
    "        mul = mul*i\n",
    "        \n",
    "    return mul\n",
    "\n",
    "    print(my_mul(4))\n",
    "        \n",
    "if m>n:\n",
    "    print(my_sum(m) + my_sum(n))\n",
    "    \n",
    "else :\n",
    "    print(my_mul(m) + my_mul(n))"
   ]
  },
  {
   "cell_type": "code",
   "execution_count": null,
   "metadata": {
    "collapsed": true
   },
   "outputs": [],
   "source": []
  }
 ],
 "metadata": {
  "kernelspec": {
   "display_name": "Python 3",
   "language": "python",
   "name": "python3"
  },
  "language_info": {
   "codemirror_mode": {
    "name": "ipython",
    "version": 3
   },
   "file_extension": ".py",
   "mimetype": "text/x-python",
   "name": "python",
   "nbconvert_exporter": "python",
   "pygments_lexer": "ipython3",
   "version": "3.6.0"
  }
 },
 "nbformat": 4,
 "nbformat_minor": 2
}
