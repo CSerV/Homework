{
 "cells": [
  {
   "cell_type": "code",
   "execution_count": 28,
   "metadata": {},
   "outputs": [
    {
     "name": "stdout",
     "output_type": "stream",
     "text": [
      "字表 1251\n",
      "请输入想查看的文件名1\n",
      "10 起美直肠淑鹿顾雅羊问\n",
      "请输入想查看的文件名2\n",
      "20 谷觑猫濡荦开贵旗枯愎掌热狮燎雀缨倦擎市士\n",
      "请输入想查看的文件名3\n",
      "30 杞思履造孑典虑光提偷庭斯亲姬负反寒容胡解喜梦杨韵灯母听识赴热\n",
      "请输入想查看的文件名4\n",
      "40 贯言立豪先章鼠图举睛立总夕竽财吉兴影寡价羊运伦和持叹阵时礼韬秋造儒骥独狼肝骄忧怪\n",
      "请输入想查看的文件名5\n",
      "50 林偷篇犀奔鳞福迷步临王蔚绎总照叱潭称巢怨桀鹏干续业奇吉喻坐婚次劫阋投长绕禁掩毛股食线袖砖道彩进秽可倍\n",
      "请输入想查看的文件名6\n",
      "60 观茧两益空观帷篇福好士乱梨迷鹊又甜雷让军渭霸滥麟蝇续肓态挑蛇突财绑危枉龙挑欺假晦一想目迹藕楚纶后冠烈政矢赶栉助刚财猛盘梅\n",
      "请输入想查看的文件名7\n",
      "70 鸡西荼梦著苟命仰伦忧自怪尤眦文政别狂抛物躇天程辙勇指识餐军倒锁二作锲吁恙放玩墙粉睚程明辟荣颖泪膺缘化诨嗤预明念大沙镳入吹盗沫戚牝杰夭毛祖晴路\n",
      "请输入想查看的文件名8\n",
      "80 相兔壮岂沫嚣淑几地童赤障餐碑差责银缪阳如胜换穷仆了碧风鸡福欣浮狭桑妻熙若政梨过宁理逝因苟寡栋南求夭踏欢智倾瀣悬眼坤求叶念膏声乎歌宝蓝喝厉度豹筹孟高充六喝途墙移者\n",
      "请输入想查看的文件名9\n",
      "90 鼻兔郎夭脾别乌驴矢餐驴秦编真心丝缕母衰帘砖万若伦楚翻阻涛深殚贻鱼进争青舞动别罪牝逑铁突原振豁掩蛾参枉宠燕邯悸异姬斧羽荐著优卷绎瀣耻鸠总校绌八向武因锦潸羽端是锲锲紫凤百牢映庖囊荆克荡\n",
      "请输入想查看的文件名10\n",
      "100 荏镳约河伦猜狭弥道循巴阻凌惊钧忍纷缝华罪梁止花鸩簪荐问捉砖杀对绿掌较法潜深湖暖秋冰水末欢较听忌雾北怡厉卷斧铩南侃暴歧幄枯至接狱羊禽经绘名伥淘丧柴联韵气瓴色瓴通瞻落制闺闻噤伦阖冕冕因巴妄造主铢犬庖孤鱼川\n"
     ]
    }
   ],
   "source": [
    "import random\n",
    "def get_ch_table(line):\n",
    "    ch_table = []\n",
    "    for ch in line:\n",
    "        if ch not in ch_table:\n",
    "            ch_table.append(ch)\n",
    "    return ch_table\n",
    "print('字表',len(chs))\n",
    "fh = open(r'c:\\temp\\idioms.txt')\n",
    "text = fh.read()\n",
    "chs = get_ch_table(text.replace('\\n', ''))\n",
    "\n",
    "for i in range(10):\n",
    "    x=[]\n",
    "    n=int(input('请输入想查看的文件名'))\n",
    "    while len(x)<n*10:\n",
    "        ch=random.choice(chs)\n",
    "        x.append(ch)\n",
    "        m=[r'c:\\temp\\i','.txt']\n",
    "        m[0]=m[0][:-1]\n",
    "        m[1]=str(n)\n",
    "        m=''.join(m)\n",
    "        fh=open(m,'w')\n",
    "        fh.writelines(x)\n",
    "        fh.close()\n",
    "        fh=open(m)\n",
    "        j=fh.read()\n",
    "        fh.close()\n",
    "    print(len(j),j)"
   ]
  },
  {
   "cell_type": "code",
   "execution_count": null,
   "metadata": {
    "collapsed": true
   },
   "outputs": [],
   "source": []
  }
 ],
 "metadata": {
  "kernelspec": {
   "display_name": "Python 3",
   "language": "python",
   "name": "python3"
  },
  "language_info": {
   "codemirror_mode": {
    "name": "ipython",
    "version": 3
   },
   "file_extension": ".py",
   "mimetype": "text/x-python",
   "name": "python",
   "nbconvert_exporter": "python",
   "pygments_lexer": "ipython3",
   "version": "3.6.2"
  }
 },
 "nbformat": 4,
 "nbformat_minor": 2
}
