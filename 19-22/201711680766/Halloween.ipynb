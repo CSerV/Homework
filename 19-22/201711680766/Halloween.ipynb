{
 "cells": [
  {
   "cell_type": "code",
   "execution_count": 8,
   "metadata": {},
   "outputs": [
    {
     "name": "stdout",
     "output_type": "stream",
     "text": [
      "请输入一个数字2\n",
      "3\n",
      "请输入一个数，以回车结束3\n",
      "6\n"
     ]
    }
   ],
   "source": [
    "def my_sum(end):\n",
    "    total_n=0\n",
    "    i=0\n",
    "    while i<end:\n",
    "        i=i+1\n",
    "        total_n=total_n+i\n",
    "    return total_n\n",
    "    print('和为',total_n)\n",
    "\n",
    "n=int(input('请输入一个数字'))\n",
    "print(my_sum(n))\n",
    "\n",
    "def my_mul(e):\n",
    "    t=0\n",
    "    total=1\n",
    "    while t<e:\n",
    "        t+=1\n",
    "        total=total*t\n",
    "    return total\n",
    "    print(my_mul(100))\n",
    "\n",
    "m=int(input('请输入一个数，以回车结束'))\n",
    "print(my_mul(m))\n"
   ]
  },
  {
   "cell_type": "code",
   "execution_count": 9,
   "metadata": {},
   "outputs": [
    {
     "name": "stdout",
     "output_type": "stream",
     "text": [
      "请输入一个整数1\n",
      "请输入一个整数2\n",
      "3\n"
     ]
    }
   ],
   "source": [
    "m=int(input('请输入一个整数'))\n",
    "n=int(input('请输入一个整数'))\n",
    "if m>n:\n",
    "    my_sum(m)\n",
    "    my_sum(n)\n",
    "    print(my_sum(m)+my_sum(n))\n",
    "else:\n",
    "    my_mul(m)\n",
    "    my_mul(n)\n",
    "    print(my_mul(n)+my_mul(m))\n",
    "    "
   ]
  },
  {
   "cell_type": "code",
   "execution_count": null,
   "metadata": {
    "collapsed": true
   },
   "outputs": [],
   "source": []
  }
 ],
 "metadata": {
  "kernelspec": {
   "display_name": "Python 3",
   "language": "python",
   "name": "python3"
  },
  "language_info": {
   "codemirror_mode": {
    "name": "ipython",
    "version": 3
   },
   "file_extension": ".py",
   "mimetype": "text/x-python",
   "name": "python",
   "nbconvert_exporter": "python",
   "pygments_lexer": "ipython3",
   "version": "3.6.2"
  }
 },
 "nbformat": 4,
 "nbformat_minor": 2
}
