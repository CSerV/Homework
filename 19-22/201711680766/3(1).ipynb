{
 "cells": [
  {
   "cell_type": "code",
   "execution_count": 1,
   "metadata": {},
   "outputs": [
    {
     "name": "stdout",
     "output_type": "stream",
     "text": [
      "请输入你的名字田梦影\n",
      "请输入你的生日1120\n",
      "田梦影 你是天蝎座\n"
     ]
    }
   ],
   "source": [
    "name=input('请输入你的名字')\n",
    "num=int(input('请输入你的生日'))\n",
    "if 321<=num<=420:\n",
    "    print(name,'你是白羊座')\n",
    "elif 421<=num<=521:\n",
    "    print(name,'你是金牛座')\n",
    "elif 522<=num<=621:\n",
    "    print(name,'你是双子座')\n",
    "elif 622<=num<=721:\n",
    "    print(name,'你是巨蟹座')\n",
    "elif 722<=num<=821:\n",
    "    print(name,'你是狮子座')\n",
    "elif 822<=num<=921:\n",
    "    print(name,'你是处女座')\n",
    "elif 922<=num<=1021:\n",
    "    print(name,'你是天秤座')\n",
    "elif 1022<=num<=1121:\n",
    "    print(name,'你是天蝎座')\n",
    "elif 1122<=num<=121:\n",
    "    print(name,'你是射手座')\n",
    "elif 1222<=num<=1231 or 11<=num<=120:\n",
    "    print(name,'你是摩羯座')\n",
    "elif 121<=num<=219:\n",
    "    print(name,'你是水瓶座')\n",
    "elif 220<=num<=320:\n",
    "    print(name,'你是双鱼座')"
   ]
  },
  {
   "cell_type": "code",
   "execution_count": 5,
   "metadata": {},
   "outputs": [
    {
     "ename": "SyntaxError",
     "evalue": "invalid character in identifier (<ipython-input-5-ffcf31724eb2>, line 9)",
     "output_type": "error",
     "traceback": [
      "\u001b[1;36m  File \u001b[1;32m\"<ipython-input-5-ffcf31724eb2>\"\u001b[1;36m, line \u001b[1;32m9\u001b[0m\n\u001b[1;33m    elif a==2：\u001b[0m\n\u001b[1;37m             ^\u001b[0m\n\u001b[1;31mSyntaxError\u001b[0m\u001b[1;31m:\u001b[0m invalid character in identifier\n"
     ]
    }
   ],
   "source": [
    "num=int(input('请输入任意数字'))\n",
    "n=int(input('请输入0以外的数字'))\n",
    "\n",
    "a=int(input('求和请输入1,乘积请输入2，求余数请输入3，否侧将计算m整除n的值'))\n",
    "if a==1:\n",
    "    n<i<m\n",
    "    i+=1\n",
    "    total=total+i\n",
    "    print(total)\n",
    "elif a==2：\n",
    "    n<i<m\n",
    "    i+=1\n",
    "    multiply=multiply*i\n",
    "    print(multiply)\n",
    "elif a==3:\n",
    "    n<i<m\n",
    "    i+=1\n",
    "    remainder==m%n\n",
    "    print(remainder)\n",
    "else:\n",
    "    print(m//n)"
   ]
  },
  {
   "cell_type": "markdown",
   "metadata": {},
   "source": []
  },
  {
   "cell_type": "code",
   "execution_count": 7,
   "metadata": {},
   "outputs": [
    {
     "name": "stdout",
     "output_type": "stream",
     "text": [
      "请输入一个英文单词的单数形式catch\n"
     ]
    },
    {
     "ename": "AttributeError",
     "evalue": "'str' object has no attribute 'endwith'",
     "output_type": "error",
     "traceback": [
      "\u001b[1;31m---------------------------------------------------------------------------\u001b[0m",
      "\u001b[1;31mAttributeError\u001b[0m                            Traceback (most recent call last)",
      "\u001b[1;32m<ipython-input-7-ad6d6442132e>\u001b[0m in \u001b[0;36m<module>\u001b[1;34m()\u001b[0m\n\u001b[0;32m      1\u001b[0m \u001b[0mm\u001b[0m\u001b[1;33m=\u001b[0m\u001b[1;33m(\u001b[0m\u001b[0minput\u001b[0m\u001b[1;33m(\u001b[0m\u001b[1;34m'请输入一个英文单词的单数形式'\u001b[0m\u001b[1;33m)\u001b[0m\u001b[1;33m)\u001b[0m\u001b[1;33m\u001b[0m\u001b[0m\n\u001b[1;32m----> 2\u001b[1;33m \u001b[1;32mif\u001b[0m \u001b[1;34m'm'\u001b[0m\u001b[1;33m.\u001b[0m\u001b[0mendwith\u001b[0m\u001b[1;33m(\u001b[0m\u001b[1;34m's,sh,ch,x'\u001b[0m\u001b[1;33m)\u001b[0m\u001b[1;33m:\u001b[0m\u001b[1;33m\u001b[0m\u001b[0m\n\u001b[0m\u001b[0;32m      3\u001b[0m     \u001b[0mprint\u001b[0m\u001b[1;33m(\u001b[0m\u001b[0m加es\u001b[0m\u001b[1;33m)\u001b[0m\u001b[1;33m\u001b[0m\u001b[0m\n",
      "\u001b[1;31mAttributeError\u001b[0m: 'str' object has no attribute 'endwith'"
     ]
    }
   ],
   "source": [
    "m=(input('请输入一个英文单词的单数形式'))\n",
    "if 'm'.endwith('s,sh,ch,x'):\n",
    "    print(加es)\n",
    "elif 'm'.endwith('y'):\n",
    "    print(变y为i加es)\n"
   ]
  },
  {
   "cell_type": "code",
   "execution_count": 8,
   "metadata": {},
   "outputs": [
    {
     "name": "stdout",
     "output_type": "stream",
     "text": [
      "随意输入数字打印空行8\n",
      "\n"
     ]
    }
   ],
   "source": [
    "m=int(input('随意输入数字打印空行'))\n",
    "print()"
   ]
  },
  {
   "cell_type": "code",
   "execution_count": null,
   "metadata": {
    "collapsed": true
   },
   "outputs": [],
   "source": []
  }
 ],
 "metadata": {
  "kernelspec": {
   "display_name": "Python 3",
   "language": "python",
   "name": "python3"
  },
  "language_info": {
   "codemirror_mode": {
    "name": "ipython",
    "version": 3
   },
   "file_extension": ".py",
   "mimetype": "text/x-python",
   "name": "python",
   "nbconvert_exporter": "python",
   "pygments_lexer": "ipython3",
   "version": "3.6.2"
  }
 },
 "nbformat": 4,
 "nbformat_minor": 2
}
