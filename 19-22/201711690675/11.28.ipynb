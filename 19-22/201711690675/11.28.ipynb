{
 "cells": [
  {
   "cell_type": "code",
   "execution_count": 5,
   "metadata": {
    "collapsed": false
   },
   "outputs": [
    {
     "name": "stdout",
     "output_type": "stream",
     "text": [
      "\n",
      "a\n",
      "a,\n",
      "a,b\n",
      "a,b,\n",
      "a,b,c\n",
      "a,b,c,\n",
      "a,b,c,d\n",
      "a,b,c,d,\n",
      "a,b,c,d,e\n",
      "a,b,c,d,e,\n",
      "a,b,c,d,e,f\n",
      "a,b,c,d,e,f,\n",
      "a,b,c,d,e,f,g\n",
      "a,b,c,d,e,f,g,\n",
      "a,b,c,d,e,f,g,h\n",
      "a,b,c,d,e,f,g,h,\n",
      "a,b,c,d,e,f,g,h,i\n",
      "a,b,c,d,e,f,g,h,i,\n",
      "a,b,c,d,e,f,g,h,i,j\n",
      "a,b,c,d,e,f,g,h,i,j,\n",
      "a,b,c,d,e,f,g,h,i,j,k\n",
      "a,b,c,d,e,f,g,h,i,j,k,\n",
      "a,b,c,d,e,f,g,h,i,j,k,l\n",
      "a,b,c,d,e,f,g,h,i,j,k,l,\n",
      "a,b,c,d,e,f,g,h,i,j,k,l,m\n",
      "a,b,c,d,e,f,g,h,i,j,k,l,m,\n",
      "a,b,c,d,e,f,g,h,i,j,k,l,m,n\n",
      "a,b,c,d,e,f,g,h,i,j,k,l,m,n,\n",
      "a,b,c,d,e,f,g,h,i,j,k,l,m,n,o\n",
      "a,b,c,d,e,f,g,h,i,j,k,l,m,n,o,\n",
      "a,b,c,d,e,f,g,h,i,j,k,l,m,n,o,p\n",
      "a,b,c,d,e,f,g,h,i,j,k,l,m,n,o,p,\n",
      "a,b,c,d,e,f,g,h,i,j,k,l,m,n,o,p,q\n",
      "a,b,c,d,e,f,g,h,i,j,k,l,m,n,o,p,q,\n",
      "a,b,c,d,e,f,g,h,i,j,k,l,m,n,o,p,q,r\n",
      "a,b,c,d,e,f,g,h,i,j,k,l,m,n,o,p,q,r,\n",
      "a,b,c,d,e,f,g,h,i,j,k,l,m,n,o,p,q,r,s\n",
      "a,b,c,d,e,f,g,h,i,j,k,l,m,n,o,p,q,r,s,\n",
      "a,b,c,d,e,f,g,h,i,j,k,l,m,n,o,p,q,r,s,t\n",
      "a,b,c,d,e,f,g,h,i,j,k,l,m,n,o,p,q,r,s,t,\n",
      "a,b,c,d,e,f,g,h,i,j,k,l,m,n,o,p,q,r,s,t,u\n",
      "a,b,c,d,e,f,g,h,i,j,k,l,m,n,o,p,q,r,s,t,u,\n",
      "a,b,c,d,e,f,g,h,i,j,k,l,m,n,o,p,q,r,s,t,u,v\n",
      "a,b,c,d,e,f,g,h,i,j,k,l,m,n,o,p,q,r,s,t,u,v,\n",
      "a,b,c,d,e,f,g,h,i,j,k,l,m,n,o,p,q,r,s,t,u,v,w\n",
      "a,b,c,d,e,f,g,h,i,j,k,l,m,n,o,p,q,r,s,t,u,v,w,\n",
      "a,b,c,d,e,f,g,h,i,j,k,l,m,n,o,p,q,r,s,t,u,v,w,x\n",
      "a,b,c,d,e,f,g,h,i,j,k,l,m,n,o,p,q,r,s,t,u,v,w,x,\n",
      "a,b,c,d,e,f,g,h,i,j,k,l,m,n,o,p,q,r,s,t,u,v,w,x,y\n",
      "a,b,c,d,e,f,g,h,i,j,k,l,m,n,o,p,q,r,s,t,u,v,w,x,y,\n",
      "a,b,c,d,e,f,g,h,i,j,k,l,m,n,o,p,q,r,s,t,u,v,w,x,y,z\n"
     ]
    }
   ],
   "source": [
    "line='a,b,c,d,e,f,g,h,i,j,k,l,m,n,o,p,q,r,s,t,u,v,w,x,y,z'\n",
    "for i in range(len(line)+1):\n",
    "    print(line[:i])\n",
    "        "
   ]
  },
  {
   "cell_type": "code",
   "execution_count": null,
   "metadata": {
    "collapsed": true
   },
   "outputs": [],
   "source": []
  }
 ],
 "metadata": {
  "kernelspec": {
   "display_name": "Python 3",
   "language": "python",
   "name": "python3"
  },
  "language_info": {
   "codemirror_mode": {
    "name": "ipython",
    "version": 3
   },
   "file_extension": ".py",
   "mimetype": "text/x-python",
   "name": "python",
   "nbconvert_exporter": "python",
   "pygments_lexer": "ipython3",
   "version": "3.6.0"
  }
 },
 "nbformat": 4,
 "nbformat_minor": 2
}
