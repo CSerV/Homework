{
 "cells": [
  {
   "cell_type": "code",
   "execution_count": 8,
   "metadata": {
    "collapsed": false
   },
   "outputs": [
    {
     "name": "stdout",
     "output_type": "stream",
     "text": [
      "5\n",
      "6\n",
      "840\n"
     ]
    }
   ],
   "source": [
    "m=int(input())\n",
    "n=int(input())\n",
    "if m>n:\n",
    "    def my_sum(d):\n",
    "                i=0\n",
    "                total=0\n",
    "                while i<d:\n",
    "                    i+=1\n",
    "                    total=total=i\n",
    "                return total\n",
    "    print(my_sum(m)+my_sum(n))\n",
    "else:\n",
    "    def my_mul(e):\n",
    "            i=0\n",
    "            mul=1\n",
    "            while i<e:\n",
    "                i+=1\n",
    "                mul=mul*i\n",
    "            return mul\n",
    "    print(my_mul(m)+my_mul(n))  "
   ]
  }
 ],
 "metadata": {
  "kernelspec": {
   "display_name": "Python 3",
   "language": "python",
   "name": "python3"
  },
  "language_info": {
   "codemirror_mode": {
    "name": "ipython",
    "version": 3
   },
   "file_extension": ".py",
   "mimetype": "text/x-python",
   "name": "python",
   "nbconvert_exporter": "python",
   "pygments_lexer": "ipython3",
   "version": "3.6.0"
  }
 },
 "nbformat": 4,
 "nbformat_minor": 2
}
