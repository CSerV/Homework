{
 "cells": [
  {
   "cell_type": "code",
   "execution_count": null,
   "metadata": {},
   "outputs": [
    {
     "name": "stdout",
     "output_type": "stream",
     "text": [
      "心弛神往\n",
      "请输入一个成语:往返徒劳\n",
      "劳而无功\n",
      "请输入一个成语:功德无量\n",
      "量才录用\n",
      "用兵如神\n",
      "请输入一个成语:神仙下凡\n",
      "you lose!\n"
     ]
    }
   ],
   "source": [
    "import random\n",
    "\n",
    "with open(r'd:\\temp\\成语大全.txt') as fl:\n",
    "    text=fl.read()\n",
    "idioms=text.split()\n",
    "\n",
    "a=random.choice(idioms)\n",
    "print(a)\n",
    "b=a\n",
    "m=0\n",
    "n=0\n",
    "while 1<2:\n",
    "    c=input('请输入一个成语:')\n",
    "    if c not in idioms:\n",
    "        print('you lose!')\n",
    "    elif c[0]==b[-1]:\n",
    "        n+=10\n",
    "        for idiom in idioms:\n",
    "            if idiom[0]==c[-1]:\n",
    "                list=[]\n",
    "                mou=list.append(idiom)\n",
    "                if mou!=[]:\n",
    "                    b=random.choice(list)\n",
    "                    print(b)\n",
    "                    m+=10\n",
    "                    c=b\n",
    "                else:\n",
    "                    print('you win!',m,n)\n",
    "    else:\n",
    "        print('you lose!',m,n)\n",
    "\n",
    "\n"
   ]
  },
  {
   "cell_type": "code",
   "execution_count": null,
   "metadata": {},
   "outputs": [],
   "source": []
  },
  {
   "cell_type": "code",
   "execution_count": null,
   "metadata": {},
   "outputs": [],
   "source": []
  }
 ],
 "metadata": {
  "kernelspec": {
   "display_name": "Python 3",
   "language": "python",
   "name": "python3"
  },
  "language_info": {
   "codemirror_mode": {
    "name": "ipython",
    "version": 3
   },
   "file_extension": ".py",
   "mimetype": "text/x-python",
   "name": "python",
   "nbconvert_exporter": "python",
   "pygments_lexer": "ipython3",
   "version": "3.6.3"
  }
 },
 "nbformat": 4,
 "nbformat_minor": 2
}
