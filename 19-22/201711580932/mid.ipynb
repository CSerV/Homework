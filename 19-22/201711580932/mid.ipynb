{
 "cells": [
  {
   "cell_type": "code",
   "execution_count": 6,
   "metadata": {},
   "outputs": [
    {
     "name": "stdout",
     "output_type": "stream",
     "text": [
      "3\n",
      "10\n"
     ]
    }
   ],
   "source": [
    "def demo(n):\n",
    "    total=0\n",
    "    for i in range(n+1):\n",
    "        total=total+i\n",
    "    return total\n",
    "def rox(m):\n",
    "    i=1\n",
    "    total=0\n",
    "    while i<=m:\n",
    "        total=total+demo(i)\n",
    "        i=i+1\n",
    "    return total\n",
    "m=int(input())\n",
    "print(rox(m))"
   ]
  },
  {
   "cell_type": "code",
   "execution_count": 7,
   "metadata": {},
   "outputs": [
    {
     "name": "stdout",
     "output_type": "stream",
     "text": [
      "['*']\n",
      "['*', '*', '*']\n",
      "['*', '*', '*', '*', '*']\n",
      "['*', '*', '*', '*', '*', '*', '*']\n",
      "['*', '*', '*', '*', '*', '*', '*', '*', '*']\n"
     ]
    }
   ],
   "source": [
    "def demo(c,n):\n",
    "    i=1\n",
    "    j=1\n",
    "    s=[]\n",
    "    while i<=n:\n",
    "        while j<=2*i-1:\n",
    "            s.append(c)\n",
    "            j=j+1\n",
    "        print(s)\n",
    "        i=i+1 \n",
    "demo(\"*\",5)"
   ]
  },
  {
   "cell_type": "code",
   "execution_count": null,
   "metadata": {},
   "outputs": [],
   "source": [
    "def demo(n):\n",
    "    i=1\n",
    "    while n%(10**i)!=0:\n",
    "        i=i+1\n",
    "    return i\n",
    "demo(123)"
   ]
  },
  {
   "cell_type": "code",
   "execution_count": null,
   "metadata": {},
   "outputs": [],
   "source": [
    "m=[]\n",
    "i=0\n",
    "total=0\n",
    "while i<9:\n",
    "    n=int(input())\n",
    "    m.append(n)\n",
    "    total=total+n\n",
    "    i=i+1\n",
    "print(total/9)\n",
    "for i in range(9):\n",
    "    if m[i]>total/9:\n",
    "        print(m[i])"
   ]
  },
  {
   "cell_type": "code",
   "execution_count": 4,
   "metadata": {},
   "outputs": [
    {
     "name": "stdout",
     "output_type": "stream",
     "text": [
      "10+5=\n",
      "15\n",
      "8+8=\n",
      "16\n",
      "1+8=\n",
      "9\n",
      "10+9=\n",
      "19\n",
      "6+6=\n",
      "12\n",
      "100\n"
     ]
    }
   ],
   "source": [
    "import random\n",
    "total=0\n",
    "i=0\n",
    "while i<5:  \n",
    "    m = random.randint(1,10)\n",
    "    n = random.randint(1,10)\n",
    "    print(m,'+',n,'=',sep='')\n",
    "    k=int(input())\n",
    "    if k==m+n:\n",
    "        total=total+20\n",
    "    i=i+1\n",
    "print(total)"
   ]
  },
  {
   "cell_type": "code",
   "execution_count": 10,
   "metadata": {},
   "outputs": [
    {
     "name": "stdout",
     "output_type": "stream",
     "text": [
      "2\n",
      "1\n",
      "2\n"
     ]
    },
    {
     "ename": "IndexError",
     "evalue": "list index out of range",
     "output_type": "error",
     "traceback": [
      "\u001b[1;31m---------------------------------------------------------------------------\u001b[0m",
      "\u001b[1;31mIndexError\u001b[0m                                Traceback (most recent call last)",
      "\u001b[1;32m<ipython-input-10-415cfb331403>\u001b[0m in \u001b[0;36m<module>\u001b[1;34m()\u001b[0m\n\u001b[0;32m      8\u001b[0m \u001b[0mi\u001b[0m\u001b[1;33m=\u001b[0m\u001b[1;36m0\u001b[0m\u001b[1;33m\u001b[0m\u001b[0m\n\u001b[0;32m      9\u001b[0m \u001b[1;32mwhile\u001b[0m \u001b[0mi\u001b[0m\u001b[1;33m<\u001b[0m\u001b[0ma\u001b[0m\u001b[1;33m:\u001b[0m\u001b[1;33m\u001b[0m\u001b[0m\n\u001b[1;32m---> 10\u001b[1;33m     \u001b[1;32mif\u001b[0m \u001b[0mm\u001b[0m\u001b[1;33m[\u001b[0m\u001b[0mi\u001b[0m\u001b[1;33m]\u001b[0m\u001b[1;33m>\u001b[0m\u001b[0mm\u001b[0m\u001b[1;33m[\u001b[0m\u001b[0mi\u001b[0m\u001b[1;33m+\u001b[0m\u001b[1;36m1\u001b[0m\u001b[1;33m]\u001b[0m\u001b[1;33m:\u001b[0m\u001b[1;33m\u001b[0m\u001b[0m\n\u001b[0m\u001b[0;32m     11\u001b[0m         \u001b[0mc\u001b[0m\u001b[1;33m=\u001b[0m\u001b[0mm\u001b[0m\u001b[1;33m[\u001b[0m\u001b[0mi\u001b[0m\u001b[1;33m]\u001b[0m\u001b[1;33m\u001b[0m\u001b[0m\n\u001b[0;32m     12\u001b[0m         \u001b[0md\u001b[0m\u001b[1;33m=\u001b[0m\u001b[0mm\u001b[0m\u001b[1;33m[\u001b[0m\u001b[0mi\u001b[0m\u001b[1;33m+\u001b[0m\u001b[1;36m1\u001b[0m\u001b[1;33m]\u001b[0m\u001b[1;33m\u001b[0m\u001b[0m\n",
      "\u001b[1;31mIndexError\u001b[0m: list index out of range"
     ]
    }
   ],
   "source": [
    "m=[]\n",
    "a=int(input())\n",
    "i=0\n",
    "while i<a:\n",
    "    b=int(input())\n",
    "    m.append(b)\n",
    "    i=i+1\n",
    "i=0\n",
    "while i<a:\n",
    "    if m[i]>m[i+1]:\n",
    "        c=m[i]\n",
    "        d=m[i+1]\n",
    "    else:\n",
    "        c=m[i+1]\n",
    "        d=m[i]\n",
    "    i=i+1\n",
    "i=0\n",
    "while i<a:\n",
    "    if m[i]==c:\n",
    "        m[0],m[i]=m[i],m[0]\n",
    "    if m[i]==d:\n",
    "        m[a-1],m[i]=m[i],m[a-1]\n",
    "        i=i+1\n",
    "print(m)"
   ]
  },
  {
   "cell_type": "code",
   "execution_count": null,
   "metadata": {
    "collapsed": true
   },
   "outputs": [],
   "source": []
  }
 ],
 "metadata": {
  "kernelspec": {
   "display_name": "Python 3",
   "language": "python",
   "name": "python3"
  },
  "language_info": {
   "codemirror_mode": {
    "name": "ipython",
    "version": 3
   },
   "file_extension": ".py",
   "mimetype": "text/x-python",
   "name": "python",
   "nbconvert_exporter": "python",
   "pygments_lexer": "ipython3",
   "version": "3.6.2"
  }
 },
 "nbformat": 4,
 "nbformat_minor": 2
}
