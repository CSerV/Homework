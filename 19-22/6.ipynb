{
 "cells": [
  {
   "cell_type": "code",
   "execution_count": 5,
   "metadata": {},
   "outputs": [
    {
     "name": "stdout",
     "output_type": "stream",
     "text": [
      "请输入一个元素：0\n",
      "位置为: 8\n"
     ]
    }
   ],
   "source": [
    "#写函数，返回某个元素/对象在一个list中的位置，如果不在，则返回-1.\n",
    "\n",
    "list= [7,94,21,10,99,12,68,0,88,4,61,1]\n",
    "m=int(input('请输入一个元素：'))\n",
    "if m in list:\n",
    "    print ('位置是:',list.index(m)+1)\n",
    "else:\n",
    "    print('位置是:',-1)\n"
   ]
  },
  {
   "cell_type": "code",
   "execution_count": 16,
   "metadata": {},
   "outputs": [
    {
     "name": "stdout",
     "output_type": "stream",
     "text": [
      "[1, 5, 2, 6, 3, 7, 4, 8]\n"
     ]
    }
   ],
   "source": [
    "#写函数，可将两个相同长度的list，间隔插入，生成新的list。例如：给两个list，a=[1,2,3,4], b=[5,6,7,8]。则可以生成：[1,5,2,6,3,7,4,8]。\n",
    "\n",
    "new=[]   \n",
    "a = [1,2,3,4]\n",
    "b = [5,6,7,8]\n",
    "i = 0\n",
    "n = len(a)\n",
    "while i < n:\n",
    "    new.append(a[i])\n",
    "    new.append(b[i])\n",
    "    i += 1\n",
    "print(new)\n"
   ]
  },
  {
   "cell_type": "code",
   "execution_count": 21,
   "metadata": {},
   "outputs": [
    {
     "name": "stdout",
     "output_type": "stream",
     "text": [
      "请输入第一个向量的横坐标1\n",
      "请输入第二个向量的纵坐标0\n",
      "请输入第一个向量的横坐标0\n",
      "请输入第二个向量的纵坐标1\n"
     ]
    },
    {
     "data": {
      "text/plain": [
       "([1, 0], [0, 1], 0.0)"
      ]
     },
     "execution_count": 21,
     "metadata": {},
     "output_type": "execute_result"
    }
   ],
   "source": [
    "#写函数，可求两个向量的夹角余弦值，向量可放在list中。主程序调用该函数。\n",
    "def cos():\n",
    "    a = []\n",
    "    b = []\n",
    "    i = 0\n",
    "    while i < 2:\n",
    "        n = int(input('请输入第一个向量的横坐标'))\n",
    "        a.append(n)\n",
    "        m = int(input('请输入第二个向量的纵坐标'))\n",
    "        b.append(m)\n",
    "        i += 1\n",
    "    cos = (a[0]*b[0]+a[1]*b[1])/((a[0]**2+a[1]**2)**(1/2)*(b[0]**2+b[1]**2)**(1/2))\n",
    "    return a,b, cos\n",
    "cos()"
   ]
  }
 ],
 "metadata": {
  "kernelspec": {
   "display_name": "Python 3",
   "language": "python",
   "name": "python3"
  },
  "language_info": {
   "codemirror_mode": {
    "name": "ipython",
    "version": 3
   },
   "file_extension": ".py",
   "mimetype": "text/x-python",
   "name": "python",
   "nbconvert_exporter": "python",
   "pygments_lexer": "ipython3",
   "version": "3.6.3"
  }
 },
 "nbformat": 4,
 "nbformat_minor": 2
}
