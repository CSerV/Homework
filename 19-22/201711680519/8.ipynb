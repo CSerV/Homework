{
 "cells": [
  {
   "cell_type": "code",
   "execution_count": 21,
   "metadata": {},
   "outputs": [
    {
     "name": "stdout",
     "output_type": "stream",
     "text": [
      "987654321"
     ]
    }
   ],
   "source": [
    "#自己定义一个reverse(s)函数，功能返回字符串s的倒序字符串\n",
    "def reverse(s):\n",
    "    for i in range(len(s)-1, -1, -1):\n",
    "        print(s[i], end='')\n",
    "        \n",
    "s='123456789'\n",
    "reverse(s)"
   ]
  },
  {
   "cell_type": "code",
   "execution_count": 84,
   "metadata": {},
   "outputs": [
    {
     "name": "stdout",
     "output_type": "stream",
     "text": [
      "         * \n",
      "        * * \n",
      "       * * * \n",
      "      * * * * \n",
      "     * * * * * \n",
      "    * * * * * * \n",
      "   * * * * * * * \n",
      "  * * * * * * * * \n",
      " * * * * * * * * * \n",
      "--------------------------------------------------\n",
      "* \n",
      "* * \n",
      "* * * \n",
      "* * * * \n",
      "* * * * * \n",
      "* * * * * * \n",
      "* * * * * * * \n",
      "* * * * * * * * \n",
      "* * * * * * * * * \n",
      "--------------------------------------------------\n",
      "* \n",
      " * * \n",
      "  * * * \n",
      "   * * * * \n",
      "    * * * * * \n",
      "     * * * * * * \n",
      "      * * * * * * * \n",
      "       * * * * * * * * \n",
      "        * * * * * * * * * \n"
     ]
    }
   ],
   "source": [
    "#写函数，根据给定符号和行数，打印相应直角三角形，等腰三角形及其他形式的三角形\n",
    "def compute(figure,n):\n",
    "    for i in range(0,n):\n",
    "        for k in range(n-i,0,-1):\n",
    "            print(' ', end='')\n",
    "        for j in range(0,i+1):\n",
    "            print(figure,'',end='')\n",
    "        print()    \n",
    "    \n",
    "    print('-'*50)\n",
    "    \n",
    "    for i in range(0,n):\n",
    "        for j in range(0,i+1):\n",
    "            print(figure,'',end='')\n",
    "        print()    \n",
    "\n",
    "    print('-'*50)\n",
    "    \n",
    "    for i in range(0,n):\n",
    "        for k in range(i,0,-1):\n",
    "            print(' ', end='')\n",
    "        for j in range(0,i+1):\n",
    "            print(figure,'',end='')\n",
    "        print()\n",
    "        \n",
    "compute('*',9)\n"
   ]
  },
  {
   "cell_type": "code",
   "execution_count": 86,
   "metadata": {},
   "outputs": [
    {
     "name": "stdout",
     "output_type": "stream",
     "text": [
      "         *\n",
      "        ***\n",
      "       *****\n",
      "      *******\n",
      "     *********\n",
      "    ***********\n",
      "   *************\n",
      "  ***************\n",
      " *****************\n",
      "*******************\n",
      " *****************\n",
      "  ***************\n",
      "   *************\n",
      "    ***********\n",
      "     *********\n",
      "      *******\n",
      "       *****\n",
      "        ***\n",
      "         *\n"
     ]
    }
   ],
   "source": [
    "#写函数，根据给定符号，打印各种菱形\n",
    "def compute(figure,n):\n",
    "    for i in range(n):\n",
    "        print(' '*(n-i) + figure*(2*i+1))\n",
    "   \n",
    "    print(figure*(2*n+1))\n",
    "    \n",
    "    for j in range (0,n):    \n",
    "        print(' '*(j+1) + figure*(2*(n-j-1)+1))\n",
    "          \n",
    "    \n",
    "compute('*',9)"
   ]
  }
 ],
 "metadata": {
  "kernelspec": {
   "display_name": "Python 3",
   "language": "python",
   "name": "python3"
  },
  "language_info": {
   "codemirror_mode": {
    "name": "ipython",
    "version": 3
   },
   "file_extension": ".py",
   "mimetype": "text/x-python",
   "name": "python",
   "nbconvert_exporter": "python",
   "pygments_lexer": "ipython3",
   "version": "3.6.3"
  }
 },
 "nbformat": 4,
 "nbformat_minor": 2
}
