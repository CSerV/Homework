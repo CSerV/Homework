{
 "cells": [
  {
   "cell_type": "code",
   "execution_count": 7,
   "metadata": {},
   "outputs": [
    {
     "name": "stdout",
     "output_type": "stream",
     "text": [
      "3\n"
     ]
    },
    {
     "data": {
      "text/plain": [
       "10"
      ]
     },
     "execution_count": 7,
     "metadata": {},
     "output_type": "execute_result"
    }
   ],
   "source": [
    "# 1\n",
    "def fun(m):\n",
    "    i = 0\n",
    "    l = 0\n",
    "    n = 0\n",
    "    total = 0\n",
    "    while i < m:\n",
    "        i += 1\n",
    "        while l < i:\n",
    "            l += 1\n",
    "            n += l\n",
    "            total += n\n",
    "    return total\n",
    "\n",
    "m = int(input())\n",
    "fun(m)"
   ]
  },
  {
   "cell_type": "code",
   "execution_count": 9,
   "metadata": {},
   "outputs": [
    {
     "name": "stdout",
     "output_type": "stream",
     "text": [
      "请输入队员人数9\n",
      "请输入一名队员的身高183\n",
      "请输入一名队员的身高185\n",
      "请输入一名队员的身高183\n",
      "请输入一名队员的身高187\n",
      "请输入一名队员的身高178\n",
      "请输入一名队员的身高175\n",
      "请输入一名队员的身高177\n",
      "请输入一名队员的身高190\n",
      "请输入一名队员的身高172\n",
      "181.11111111111111\n"
     ]
    }
   ],
   "source": [
    "# 4\n",
    "n = int(input('请输入队员人数'))\n",
    "total = 0\n",
    "i = 0\n",
    "while i < n:\n",
    "    high = int(input('请输入一名队员的身高'))\n",
    "    total += high\n",
    "    i += 1\n",
    "print(total/n)"
   ]
  },
  {
   "cell_type": "code",
   "execution_count": null,
   "metadata": {},
   "outputs": [],
   "source": []
  }
 ],
 "metadata": {
  "kernelspec": {
   "display_name": "Python 3",
   "language": "python",
   "name": "python3"
  },
  "language_info": {
   "codemirror_mode": {
    "name": "ipython",
    "version": 3
   },
   "file_extension": ".py",
   "mimetype": "text/x-python",
   "name": "python",
   "nbconvert_exporter": "python",
   "pygments_lexer": "ipython3",
   "version": "3.6.0"
  }
 },
 "nbformat": 4,
 "nbformat_minor": 2
}
