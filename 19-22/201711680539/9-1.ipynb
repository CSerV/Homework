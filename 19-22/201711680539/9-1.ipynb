{
 "cells": [
  {
   "cell_type": "code",
   "execution_count": 1,
   "metadata": {},
   "outputs": [
    {
     "name": "stdout",
     "output_type": "stream",
     "text": [
      "使用顺序查找算法找到 904 个数字。\n",
      "共计 3.82853364944458 秒。\n",
      "使用二分查找算法找到 904 个数字\n",
      "共计 0.0 秒\n"
     ]
    }
   ],
   "source": [
    "import random,time,bisect\n",
    "A=[i for i in range(1,100001)]                #生成列表A及A的乱序B\n",
    "B=[i for i in range(1,100001)]\n",
    "random.shuffle(B)\n",
    "C=[]                                          #随机生成1000个1-110000之间的整数，作为列表C\n",
    "for i in range(1000):\n",
    "    number=random.randint(1,110001)\n",
    "    C.append(number)\n",
    "n=0                                           #用顺序查找算法在B中找上述整数\n",
    "start_time_1=time.time()\n",
    "for i in C:\n",
    "    for j in B:\n",
    "        if i==j:\n",
    "            n=n+1\n",
    "            break\n",
    "        else:\n",
    "            continue\n",
    "end_time_1=time.time()\n",
    "print('使用顺序查找算法找到',n,'个数字。')\n",
    "print('共计',end_time_1-start_time_1,'秒。')\n",
    "m=0                                            #用二分查找算法在A中找上述整数\n",
    "start_time_2=time.time()\n",
    "for i in C:\n",
    "    if bisect.bisect(A,i)==i:\n",
    "        m=m+1\n",
    "    else:\n",
    "        continue\n",
    "end_time_2=time.time()\n",
    "print('使用二分查找算法找到',m,'个数字')\n",
    "print('共计',end_time_2-start_time_2,'秒')"
   ]
  }
 ],
 "metadata": {
  "kernelspec": {
   "display_name": "Python 3",
   "language": "python",
   "name": "python3"
  },
  "language_info": {
   "codemirror_mode": {
    "name": "ipython",
    "version": 3
   },
   "file_extension": ".py",
   "mimetype": "text/x-python",
   "name": "python",
   "nbconvert_exporter": "python",
   "pygments_lexer": "ipython3",
   "version": "3.6.2"
  }
 },
 "nbformat": 4,
 "nbformat_minor": 2
}
