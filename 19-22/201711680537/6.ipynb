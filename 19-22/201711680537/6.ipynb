{
 "cells": [
  {
   "cell_type": "code",
   "execution_count": 6,
   "metadata": {},
   "outputs": [
    {
     "name": "stdout",
     "output_type": "stream",
     "text": [
      "plz type a number:  99\n",
      "-1\n"
     ]
    }
   ],
   "source": [
    "#写函数，返回某个元素/对象在一个list中的位置，如果不在，则返回-1.\n",
    "def add(a):\n",
    "    list = [1,2,3,4,5,6,7,8,9]\n",
    "    if a in list:\n",
    "        print(list.index(a))\n",
    "    else:\n",
    "        print('-1')\n",
    "   \n",
    "\n",
    "add(int(input('plz type a number:  ')))"
   ]
  },
  {
   "cell_type": "code",
   "execution_count": 20,
   "metadata": {},
   "outputs": [
    {
     "name": "stdout",
     "output_type": "stream",
     "text": [
      "[1, 5, 2, 6, 3, 7, 4, 8]\n"
     ]
    }
   ],
   "source": [
    "#写函数，可将两个相同长度的list，间隔插入，生成新的list。\n",
    "def new(list1,list2):\n",
    "    i = 0\n",
    "    x = 1\n",
    "    n = len(list1)\n",
    "    \n",
    "    while x<2*n:\n",
    "            list1.insert(x,list2[i])\n",
    "            i += 1\n",
    "            x += 2\n",
    "    print(list1)\n",
    "                \n",
    "    \n",
    "a=[1,2,3,4]\n",
    "b=[5,6,7,8]\n",
    "new(a,b)\n"
   ]
  },
  {
   "cell_type": "code",
   "execution_count": 31,
   "metadata": {},
   "outputs": [
    {
     "name": "stdout",
     "output_type": "stream",
     "text": [
      "cos<a,b>=  0.7071067811865475\n"
     ]
    }
   ],
   "source": [
    "#写函数，可求两个向量的夹角余弦值，向量可放在list中。主程序调用该函数。\n",
    "def cos():\n",
    "    a = [1, 1]\n",
    "    b = [1,0]\n",
    "    a1 = (a[0])**2 + (a[1])**2\n",
    "    b1 = (b[0])**2 + (b[1])**2\n",
    "    n  = a[0]*b[0] + a[1]*b[1]\n",
    "    cos = n /((a1)**(1/2) * (b1)**(1/2))\n",
    "    print('cos<a,b>= ',cos)\n",
    "    \n",
    "cos()"
   ]
  },
  {
   "cell_type": "code",
   "execution_count": 28,
   "metadata": {},
   "outputs": [
    {
     "name": "stdout",
     "output_type": "stream",
     "text": [
      "共有 3486 种分法\n"
     ]
    }
   ],
   "source": [
    "#挑战性习题：python语言老师为了激励学生学python，自费买了100个完全相同的Macbook Pro，分给三个班级，每个班级至少分5个，用穷举法计算共有多少种分法？\n",
    "sum = 0\n",
    "for a in range(1,86):\n",
    "    for b in range(1,86):\n",
    "        for c in range(1,86):\n",
    "            if a+b+c == 85:\n",
    "                sum +=1\n",
    "print('共有',sum,'种分法')\n",
    "    "
   ]
  }
 ],
 "metadata": {
  "kernelspec": {
   "display_name": "Python 3",
   "language": "python",
   "name": "python3"
  },
  "language_info": {
   "codemirror_mode": {
    "name": "ipython",
    "version": 3
   },
   "file_extension": ".py",
   "mimetype": "text/x-python",
   "name": "python",
   "nbconvert_exporter": "python",
   "pygments_lexer": "ipython3",
   "version": "3.6.2"
  }
 },
 "nbformat": 4,
 "nbformat_minor": 2
}
