{
 "cells": [
  {
   "cell_type": "code",
   "execution_count": 2,
   "metadata": {
    "scrolled": true
   },
   "outputs": [
    {
     "name": "stdout",
     "output_type": "stream",
     "text": [
      "\n",
      "         ----------------------\n",
      "                 1.direction\n",
      "                 2.game\n",
      "                 3.quit\n",
      "                 4.team\n",
      "          ----------------------\n",
      "          \n",
      "plz type ur choice:2\n",
      "士饱马腾\n",
      "plz type an idiom: (if u want to quit,type q)    腾云驾雾\n",
      "u r right!\n",
      "雾里看花\n",
      "plz type an idiom: (if u want to quit,type q)    花言巧语\n",
      "u r right!\n",
      "语重心长\n",
      "plz type an idiom: (if u want to quit,type q)    q\n",
      "88,ur score is 20 my score is  20\n"
     ]
    }
   ],
   "source": [
    "#成语接龙（呜呜呜我知道我写得很乱qaq麻烦助教了 谢谢你~\n",
    "import random\n",
    "    \n",
    "def team():\n",
    "    print('hhhhh')\n",
    "    \n",
    "def direction():\n",
    "    print('假装打了说明嘻嘻嘻')    \n",
    "    \n",
    "def menu():\n",
    "    print('''\n",
    "         ----------------------\n",
    "                 1.direction\n",
    "                 2.game\n",
    "                 3.quit\n",
    "                 4.team\n",
    "          ----------------------\n",
    "          ''')\n",
    "    \n",
    "def game():\n",
    "    fh = open(r'c:\\temp\\成语大全.txt')\n",
    "    text = fh.read()\n",
    "    idioms = text.split()\n",
    "    fh.close()\n",
    "    \n",
    "    cscore = 0\n",
    "    hscore = 0\n",
    "    i = 1\n",
    "    a = 1\n",
    "    cans = random.choice(idioms)\n",
    "    print(cans)\n",
    "    while cscore >= 0 and hscore >= 0:\n",
    "    \n",
    "        if i == 1:     #用户给出成语\n",
    "            ans = str(input('plz type an idiom: (if u want to quit,type q)    '))\n",
    "            if ans[0] == cans[3]:   #用户给对成语\n",
    "                hscore += 10\n",
    "                print('u r right!') \n",
    "                i = 0\n",
    "            elif len(ans) == 4 and  ans[0] != cans[3]:   #用户给错成语\n",
    "                hscore -= 10\n",
    "                print('wrong!')\n",
    "                i = 0\n",
    "            elif ans == 'q':  #用户退出\n",
    "                print('88,ur score is',hscore,'my score is ',cscore )    \n",
    "                break\n",
    "\n",
    "        elif i == 0:    #计算机给出成语\n",
    "            for idiom in idioms:\n",
    "                if idiom[0] == ans[3]:\n",
    "                    cans = idiom\n",
    "                    cscore += 10\n",
    "                    print(cans)\n",
    "                    break\n",
    "            i = 1\n",
    "            \n",
    "    else:   #分数为负数退出\n",
    "        print('88,ur score is',hscore,'my score is',cscore )\n",
    "        \n",
    "            \n",
    "menu()\n",
    "choice = int(input('plz type ur choice:'))\n",
    "if choice == 1:\n",
    "    direction()\n",
    "elif choice == 2:\n",
    "    game()\n",
    "elif choice == 3:\n",
    "    print('88')\n",
    "elif choice ==4:\n",
    "    team()               "
   ]
  },
  {
   "cell_type": "code",
   "execution_count": null,
   "metadata": {
    "collapsed": true
   },
   "outputs": [],
   "source": []
  }
 ],
 "metadata": {
  "kernelspec": {
   "display_name": "Python 3",
   "language": "python",
   "name": "python3"
  },
  "language_info": {
   "codemirror_mode": {
    "name": "ipython",
    "version": 3
   },
   "file_extension": ".py",
   "mimetype": "text/x-python",
   "name": "python",
   "nbconvert_exporter": "python",
   "pygments_lexer": "ipython3",
   "version": "3.6.2"
  }
 },
 "nbformat": 4,
 "nbformat_minor": 2
}
