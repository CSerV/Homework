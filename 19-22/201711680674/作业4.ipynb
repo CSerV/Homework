{
 "cells": [
  {
   "cell_type": "code",
   "execution_count": 1,
   "metadata": {},
   "outputs": [
    {
     "ename": "SyntaxError",
     "evalue": "invalid syntax (<ipython-input-1-96b166349805>, line 1)",
     "output_type": "error",
     "traceback": [
      "\u001b[1;36m  File \u001b[1;32m\"<ipython-input-1-96b166349805>\"\u001b[1;36m, line \u001b[1;32m1\u001b[0m\n\u001b[1;33m    练习 1：仿照，写程序，可求m!+n!+k!\u001b[0m\n\u001b[1;37m       ^\u001b[0m\n\u001b[1;31mSyntaxError\u001b[0m\u001b[1;31m:\u001b[0m invalid syntax\n"
     ]
    }
   ],
   "source": [
    "练习 1：仿照，写程序，可求m!+n!+k!"
   ]
  },
  {
   "cell_type": "code",
   "execution_count": 8,
   "metadata": {},
   "outputs": [
    {
     "name": "stdout",
     "output_type": "stream",
     "text": [
      "请输入一个整数，以回车结束4\n",
      "请输入一个整数，以回车结束5\n",
      "请输入一个整数，以回车结束6\n",
      "864\n"
     ]
    }
   ],
   "source": [
    "def my_mul(end):\n",
    "    i=1\n",
    "    a=1\n",
    "    while i<end:\n",
    "        i=i+1\n",
    "        a=a*i\n",
    "    return a\n",
    "m=int(input('请输入一个整数，以回车结束'))\n",
    "n=int(input('请输入一个整数，以回车结束'))\n",
    "k=int(input('请输入一个整数，以回车结束'))\n",
    "print(my_mul(m)+my_mul(n)+my_mul(k))"
   ]
  },
  {
   "cell_type": "code",
   "execution_count": 2,
   "metadata": {
    "scrolled": true
   },
   "outputs": [
    {
     "ename": "SyntaxError",
     "evalue": "invalid syntax (<ipython-input-2-b6e36df9f7f3>, line 1)",
     "output_type": "error",
     "traceback": [
      "\u001b[1;36m  File \u001b[1;32m\"<ipython-input-2-b6e36df9f7f3>\"\u001b[1;36m, line \u001b[1;32m1\u001b[0m\n\u001b[1;33m    练习 2：写函数可返回1 - 1/3 + 1/5 - 1/7...的前n项的和。在主程序中，分别令n=1000及100000，打印4倍该函数的和。\u001b[0m\n\u001b[1;37m       ^\u001b[0m\n\u001b[1;31mSyntaxError\u001b[0m\u001b[1;31m:\u001b[0m invalid syntax\n"
     ]
    }
   ],
   "source": [
    "练习 2：写函数可返回1 - 1/3 + 1/5 - 1/7...的前n项的和。在主程序中，分别令n=1000及100000，打印4倍该函数的和。"
   ]
  },
  {
   "cell_type": "code",
   "execution_count": 2,
   "metadata": {
    "scrolled": true
   },
   "outputs": [
    {
     "name": "stdout",
     "output_type": "stream",
     "text": [
      "3.140592653839794\n",
      "3.1415826535897198\n"
     ]
    }
   ],
   "source": [
    "def my_sum(n):\n",
    "    i=0\n",
    "    total=0\n",
    "    while i<n:\n",
    "        i=i+1\n",
    "        if i%2!=0:\n",
    "            a=2*i-1\n",
    "            total=total+1/a\n",
    "        else:\n",
    "            a=2*i-1\n",
    "            total=total-1/a\n",
    "    return total\n",
    "print(4*my_sum(1000))\n",
    "print(4*my_sum(100000))"
   ]
  },
  {
   "cell_type": "code",
   "execution_count": 3,
   "metadata": {},
   "outputs": [
    {
     "ename": "SyntaxError",
     "evalue": "invalid syntax (<ipython-input-3-8f86fe5aafd2>, line 1)",
     "output_type": "error",
     "traceback": [
      "\u001b[1;36m  File \u001b[1;32m\"<ipython-input-3-8f86fe5aafd2>\"\u001b[1;36m, line \u001b[1;32m1\u001b[0m\n\u001b[1;33m    练习 3：将task3中的练习1及练习4改写为函数，并进行调用。\u001b[0m\n\u001b[1;37m       ^\u001b[0m\n\u001b[1;31mSyntaxError\u001b[0m\u001b[1;31m:\u001b[0m invalid syntax\n"
     ]
    }
   ],
   "source": [
    "练习 3：将task3中的练习1及练习4改写为函数，并进行调用。"
   ]
  },
  {
   "cell_type": "code",
   "execution_count": 17,
   "metadata": {},
   "outputs": [
    {
     "name": "stdout",
     "output_type": "stream",
     "text": [
      "请输入你的名字，回车结束zxf\n",
      "请输入你的出生月份，回车结束2\n",
      "请输入你的出生日期，回车结束18\n",
      "zxf 你是个非常有性格的水瓶座\n"
     ]
    }
   ],
   "source": [
    "name=input('请输入你的名字，回车结束')\n",
    "month=int(input('请输入你的出生月份，回车结束'))\n",
    "day=int(input('请输入你的出生日期，回车结束'))\n",
    "def constellation():\n",
    "    if(month==3 and 21<=day<=31)or(month==4 and 1<=day<=19):\n",
    "        return'你是个非常有性格的白羊座'\n",
    "    if(month==4 and 20<=day<=30)or(month==5 and 1<=day<=20):\n",
    "        return'你是个非常有性格的金牛座'\n",
    "    if(month==5 and 21<=day<=31)or(month==6 and 1<=day<=21):\n",
    "        return'你是个非常有性格的双子座'\n",
    "    if(month==6 and 22<=day<=30)or(month==7 and 1<=day<=22):\n",
    "        return'你是个非常有性格的巨蟹座'\n",
    "    if(month==7 and 23<=day<=31)or(month==8 and 1<=day<=22):\n",
    "        return'你是个非常有性格的狮子座'\n",
    "    if(month==8 and 23<=day<=31)or(month==9 and 1<=day<=22):\n",
    "        return'你是个非常有性格的处女座'\n",
    "    if(month==9 and 23<=day<=30)or(month==10 and 1<=day<=23):\n",
    "        return'你是个非常有性格的天秤座'\n",
    "    if(month==10 and 24<=day<=31)or(month==11 and 1<=day<=22):\n",
    "        return'你是个非常有性格的天蝎座'\n",
    "    if(month==11 and 23<=day<=30)or(month==12 and 1<=day<=21):\n",
    "        return'你是个非常有性格的射手座'\n",
    "    if(month==12 and 22<=day<=31)or(month==1 and 1<=day<=19):\n",
    "        return'你是个非常有性格的摩羯座'\n",
    "    if(month==1 and 20<=day<=31)or(month==2 and 1<=day<=18):\n",
    "        return'你是个非常有性格的水瓶座'\n",
    "    if(month==2 and 19<=day<=29)or(month==3 and 1<=day<=20):\n",
    "        return'你是个非常有性格的双鱼座'\n",
    "    else:\n",
    "        return'输入非法'\n",
    "print(name,constellation())"
   ]
  },
  {
   "cell_type": "code",
   "execution_count": 5,
   "metadata": {},
   "outputs": [
    {
     "name": "stdout",
     "output_type": "stream",
     "text": [
      "请输入一个英文名词，回车结束oyster\n",
      "+s\n"
     ]
    }
   ],
   "source": [
    "def word():\n",
    "    n=input('请输入一个英文名词，回车结束')\n",
    "    if n.endswith('s'):\n",
    "        return '+es'\n",
    "    elif n.endswith('f'):\n",
    "        return '去f加ves'\n",
    "    elif n.endswith('fe'):\n",
    "        return '去fe加ves'\n",
    "    else:\n",
    "        return '+s'\n",
    "print(word())"
   ]
  },
  {
   "cell_type": "code",
   "execution_count": 4,
   "metadata": {},
   "outputs": [
    {
     "ename": "SyntaxError",
     "evalue": "invalid character in identifier (<ipython-input-4-1fae108bc191>, line 1)",
     "output_type": "error",
     "traceback": [
      "\u001b[1;36m  File \u001b[1;32m\"<ipython-input-4-1fae108bc191>\"\u001b[1;36m, line \u001b[1;32m1\u001b[0m\n\u001b[1;33m    挑战性练习：写程序，可以求从整数m到整数n累加的和，间隔为k，求和部分需用函数实现，主程序中由用户输入m，n，k调用函数验证正确性。\u001b[0m\n\u001b[1;37m                                                                     ^\u001b[0m\n\u001b[1;31mSyntaxError\u001b[0m\u001b[1;31m:\u001b[0m invalid character in identifier\n"
     ]
    }
   ],
   "source": [
    "挑战性练习：写程序，可以求从整数m到整数n累加的和，间隔为k，求和部分需用函数实现，主程序中由用户输入m，n，k调用函数验证正确性。"
   ]
  },
  {
   "cell_type": "code",
   "execution_count": 10,
   "metadata": {},
   "outputs": [
    {
     "name": "stdout",
     "output_type": "stream",
     "text": [
      "请输入所加之数的第一个，以回车结束2\n",
      "请输入所加之数的最后一个，以回车结束10\n",
      "请输入所加数的间隔，以回车结束2\n",
      "15\n"
     ]
    }
   ],
   "source": [
    "def tot():\n",
    "    m=int(input('请输入所加之数的第一个，以回车结束'))\n",
    "    n=int(input('请输入所加之数的最后一个，以回车结束'))\n",
    "    k=int(input('请输入所加数的间隔，以回车结束'))\n",
    "    total=0\n",
    "    while m<=n:\n",
    "        total=total+m\n",
    "        m=m+k+1\n",
    "    return total\n",
    "\n",
    "print(tot())"
   ]
  }
 ],
 "metadata": {
  "kernelspec": {
   "display_name": "Python 3",
   "language": "python",
   "name": "python3"
  },
  "language_info": {
   "codemirror_mode": {
    "name": "ipython",
    "version": 3
   },
   "file_extension": ".py",
   "mimetype": "text/x-python",
   "name": "python",
   "nbconvert_exporter": "python",
   "pygments_lexer": "ipython3",
   "version": "3.6.2"
  }
 },
 "nbformat": 4,
 "nbformat_minor": 2
}
