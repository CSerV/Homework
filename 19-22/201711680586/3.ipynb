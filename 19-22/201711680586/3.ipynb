{
 "cells": [
  {
   "cell_type": "code",
   "execution_count": 15,
   "metadata": {},
   "outputs": [
    {
     "name": "stdout",
     "output_type": "stream",
     "text": [
      "请输入你的姓名，以回车结束。name\n",
      "请输入你出生的月份与日期，以回车结束。1.01\n",
      "name 你的星座是：摩羯座。\n"
     ]
    }
   ],
   "source": [
    "# 可由键盘读入用户姓名，让用户输入出生的月份与日期，判断用户星座。\n",
    "m=input('请输入你的姓名，以回车结束。')\n",
    "n=float(input('请输入你出生的月份与日期，以回车结束。'))\n",
    "\n",
    "if n>=3.21 and n<=4.19:\n",
    "    print(m,'你的星座是：白羊座。')\n",
    "elif n>=4.20 and n<=5.20:\n",
    "    print(m,'你的星座是：金牛座。')\n",
    "elif n>=5.21 and n<=6.21:\n",
    "    print(m,'你的星座是：双子座。')\n",
    "elif n>=6.22 and n<=7.22:\n",
    "    print(m,'你的星座是：巨蟹座。')\n",
    "elif n>=7.23 and n<=8.22:\n",
    "    print(m,'你的星座是：狮子座。')\n",
    "elif n>=8.23 and n<=9.22:\n",
    "    print(m,'你的星座是：处女座。')\n",
    "elif n>=9.23 and n<=10.23:\n",
    "    print(m,'你的星座是：天秤座。')\n",
    "elif n>=10.24 and n<=11.22:\n",
    "    print(m,'你的星座是：天蝎座。')\n",
    "elif n>=11.23 and n<=12.21:\n",
    "    print(m,'你的星座是：射手座。')\n",
    "elif n>=12.22 or n<=1.19:\n",
    "    print(m,'你的星座是：摩羯座。')\n",
    "elif n>=1.20 and n<=2.18:\n",
    "    print(m,'你的星座是：水瓶座。')\n",
    "elif n>=2.19 and n<=3.20:\n",
    "    print(m,'你的星座是：双鱼座。')"
   ]
  },
  {
   "cell_type": "code",
   "execution_count": 14,
   "metadata": {},
   "outputs": [
    {
     "name": "stdout",
     "output_type": "stream",
     "text": [
      "请输入一个整数，以回车结束。9\n",
      "请输入一个整数，以回车结束。8\n",
      "如果求m、n的和，则输入1；如果求m、n的乘积，则输入2；如果求m除以n的余数，则输入3。1\n",
      "17\n"
     ]
    }
   ],
   "source": [
    "# 可由键盘读入两个整数m与n(n不等于0)，询问用户意图，\n",
    "# 如果要求和则计算从m到n的和输出，如果要乘积则计算从m到n的积并输出，如果要求余数则计算m除以n的余数的值并输出，否则则计算m整除n的值并输出。\n",
    "m=int(input('请输入一个整数，以回车结束。'))\n",
    "n=int(input('请输入一个整数，以回车结束。'))\n",
    "i=int(input('如果求m、n的和，则输入1；如果求m、n的乘积，则输入2；如果求m除以n的余数，则输入3。'))\n",
    "\n",
    "if i==1:\n",
    "    print(m+n)\n",
    "elif i==2:\n",
    "    print(m*n)\n",
    "elif i==3:\n",
    "    print(m%n)\n",
    "elif i!=1 and i!=2 and i!=3:\n",
    "    print(m//n)"
   ]
  },
  {
   "cell_type": "code",
   "execution_count": 13,
   "metadata": {},
   "outputs": [
    {
     "name": "stdout",
     "output_type": "stream",
     "text": [
      "请输入一个英文名词的单数形式，以回车结束。apple\n",
      "-s\n"
     ]
    }
   ],
   "source": [
    "# 英文单词单数转复数，要求输入一个英文动词（单数形式），能够得到其复数形式，或给出单数转复数形式的建议。\n",
    "n=str(input('请输入一个英文名词的单数形式，以回车结束。'))\n",
    "\n",
    "if n.endswith('s') or n.endswith('ch') or n.endswith('sh') or n.endswith('x'):\n",
    "    print('-es')\n",
    "elif n.endswith('f') or n.endswith('fe'):\n",
    "    print('去掉f、fe,-ves')\n",
    "print('-s')"
   ]
  },
  {
   "cell_type": "code",
   "execution_count": 26,
   "metadata": {},
   "outputs": [
    {
     "name": "stdout",
     "output_type": "stream",
     "text": [
      "\n",
      "\n",
      "\n",
      "\n",
      "\n"
     ]
    }
   ],
   "source": [
    "# 能够在屏幕上显示空行。\n",
    "print('')\n",
    "print('')\n",
    "print('')\n",
    "print('')\n",
    "print('')"
   ]
  }
 ],
 "metadata": {
  "kernelspec": {
   "display_name": "Python 3",
   "language": "python",
   "name": "python3"
  },
  "language_info": {
   "codemirror_mode": {
    "name": "ipython",
    "version": 3
   },
   "file_extension": ".py",
   "mimetype": "text/x-python",
   "name": "python",
   "nbconvert_exporter": "python",
   "pygments_lexer": "ipython3",
   "version": "3.6.2"
  }
 },
 "nbformat": 4,
 "nbformat_minor": 2
}
