{
 "cells": [
  {
   "cell_type": "code",
   "execution_count": 1,
   "metadata": {},
   "outputs": [
    {
     "name": "stdout",
     "output_type": "stream",
     "text": [
      "言甚详明\n",
      "输入要接的成语，回车结束：明眸皓齿\n",
      "齿白唇红\n",
      "输入要接的成语，回车结束：红日三竿\n",
      "竿头日进\n",
      "输入要接的成语，回车结束： \n",
      "人类得分： 20\n",
      "计算机得分： 20\n"
     ]
    }
   ],
   "source": [
    "import random\n",
    "fh=open(r'C:\\temp\\成语大全.txt')\n",
    "text=fh.read()\n",
    "fh.close()\n",
    "idioms=text.split('\\n')\n",
    "n=0 #人类得分\n",
    "m=0 #计算机得分\n",
    "i=1\n",
    "a=random.choice(idioms)\n",
    "print(a)\n",
    "while i>0:\n",
    "    b=input('输入要接的成语，回车结束：')\n",
    "    if b[0]==a[3]:\n",
    "        m=m+10\n",
    "        for a in idioms:\n",
    "            if a[0]==b[3]:\n",
    "                print(a)\n",
    "                n=n+10\n",
    "                break\n",
    "                \n",
    "        \n",
    "        i=i+1\n",
    "    else:\n",
    "        print('人类得分：',n)\n",
    "        print('计算机得分：',m)\n",
    "        break\n",
    "    \n"
   ]
  }
 ],
 "metadata": {
  "kernelspec": {
   "display_name": "Python 3",
   "language": "python",
   "name": "python3"
  },
  "language_info": {
   "codemirror_mode": {
    "name": "ipython",
    "version": 3
   },
   "file_extension": ".py",
   "mimetype": "text/x-python",
   "name": "python",
   "nbconvert_exporter": "python",
   "pygments_lexer": "ipython3",
   "version": "3.6.2"
  }
 },
 "nbformat": 4,
 "nbformat_minor": 2
}
