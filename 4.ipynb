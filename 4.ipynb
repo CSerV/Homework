{
 "cells": [
  {
   "cell_type": "code",
   "execution_count": 4,
   "metadata": {},
   "outputs": [
    {
     "name": "stdout",
     "output_type": "stream",
     "text": [
      "请输入一个整数m，以回车结束1\n",
      "请输入一个整数n，以回车结束2\n",
      "请输入一个整数k，以回车结束3\n",
      "9\n"
     ]
    }
   ],
   "source": [
    "#练习 1：仿照求$ \\sum_{i=1}^mi + \\sum_{i=1}^ni  + \\sum_{i=1}^ki$的完整代码，写程序，可求m!+n!+k!\n",
    "def compute(content):\n",
    "    i=0\n",
    "    pro=1\n",
    "    while i<content:\n",
    "        i=i+1\n",
    "        pro=pro*i\n",
    "    return pro\n",
    "\n",
    "m=int(input('请输入一个整数m，以回车结束'))\n",
    "n=int(input('请输入一个整数n，以回车结束'))\n",
    "k=int(input('请输入一个整数k，以回车结束'))\n",
    "print(compute(m)+compute(n)+compute(k))"
   ]
  },
  {
   "cell_type": "code",
   "execution_count": 4,
   "metadata": {},
   "outputs": [
    {
     "name": "stdout",
     "output_type": "stream",
     "text": [
      "3.140592653839794\n",
      "3.1415826535897198\n"
     ]
    }
   ],
   "source": [
    "#练习 2：写函数可返回1 - 1/3 + 1/5 - 1/7...的前n项的和。在主程序中，分别令n=1000及100000，打印4倍该函数的和。\n",
    "def f(n):\n",
    "    i=0\n",
    "    total=0\n",
    "    x=1\n",
    "    while i<n:\n",
    "        i=i+1\n",
    "        x=1/(2*i-1)*(-1)**(i+1)\n",
    "        total=total+x\n",
    "    return total\n",
    "\n",
    "print(4*f(1000))\n",
    "print(4*f(100000))"
   ]
  },
  {
   "cell_type": "code",
   "execution_count": 1,
   "metadata": {},
   "outputs": [
    {
     "name": "stdout",
     "output_type": "stream",
     "text": [
      "请输入您的姓名，以回车结束luke\n",
      "luke 您是精力旺盛的天蝎座\n"
     ]
    }
   ],
   "source": [
    "#练习 3：将task3中的练习1及练习4改写为函数，并进行调用。\n",
    "#练习1\n",
    "def h(date):\n",
    "    name=input('请输入您的姓名，以回车结束')\n",
    "    if 321<date<419:\n",
    "        print(name,'您是爱冒险的白羊座')\n",
    "    elif 420<date<520:\n",
    "        print(name,'您是吃苦耐劳的金牛座')\n",
    "    elif 521<date<621:\n",
    "        print(name,'您是理性的双子座')\n",
    "    elif 622<date<722:\n",
    "        print(name,'您是充满爱心的巨蟹座')\n",
    "    elif 723<date<822:\n",
    "        print(name,'您是阳光热情的狮子座')\n",
    "    elif 823<date<922:\n",
    "        print(name,'您是谦虚的处女座')\n",
    "    elif 923<date<1023:\n",
    "        print(name,'您是优雅善良的天秤座')\n",
    "    elif 1024<date>1122:\n",
    "        print(name,'您是精力旺盛的天蝎座')\n",
    "    elif 1123<date<1221:\n",
    "        print(name,'您是乐观诚实的射手座')\n",
    "    elif 120<date<218:\n",
    "        print(name,'您是倔强的水瓶座')\n",
    "    elif 219<date<320:\n",
    "        print(name,'您是想象力丰富的双鱼座')\n",
    "    else:\n",
    "        print(name,'您是脚踏实地的摩羯座')\n",
    "\n",
    "h(1213)"
   ]
  },
  {
   "cell_type": "code",
   "execution_count": 3,
   "metadata": {},
   "outputs": [
    {
     "name": "stdout",
     "output_type": "stream",
     "text": [
      "\n",
      "\n",
      "\n",
      "\n",
      "\n",
      "\n"
     ]
    }
   ],
   "source": [
    "#练习4\n",
    "def g(x):\n",
    "    print('\\n'*x)\n",
    "    \n",
    "g(5)"
   ]
  },
  {
   "cell_type": "code",
   "execution_count": null,
   "metadata": {
    "collapsed": true
   },
   "outputs": [],
   "source": [
    "#挑战性练习：写程序，可以求从整数m到整数n累加的和，间隔为k，求和部分需用函数实现，主程序中由用户输入m，n，k调用函数验证正确性。"
   ]
  },
  {
   "cell_type": "code",
   "execution_count": 8,
   "metadata": {},
   "outputs": [
    {
     "data": {
      "text/plain": [
       "5"
      ]
     },
     "execution_count": 8,
     "metadata": {},
     "output_type": "execute_result"
    }
   ],
   "source": [
    "def elina(m,n,k):\n",
    "    total=0\n",
    "    if m>n:\n",
    "        while m>n:\n",
    "            total=total+n+m\n",
    "            n=n+k\n",
    "    else:\n",
    "        while m<=n:\n",
    "            total=total+m+n\n",
    "            m=m+k\n",
    "    return (total)\n",
    "             \n",
    "elina(3,2,1)"
   ]
  }
 ],
 "metadata": {
  "kernelspec": {
   "display_name": "Python 3",
   "language": "python",
   "name": "python3"
  },
  "language_info": {
   "codemirror_mode": {
    "name": "ipython",
    "version": 3
   },
   "file_extension": ".py",
   "mimetype": "text/x-python",
   "name": "python",
   "nbconvert_exporter": "python",
   "pygments_lexer": "ipython3",
   "version": "3.6.2"
  }
 },
 "nbformat": 4,
 "nbformat_minor": 2
}
